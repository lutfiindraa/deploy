{
 "cells": [
  {
   "cell_type": "markdown",
   "id": "71ad2ef6",
   "metadata": {},
   "source": [
    "# Analisis dan Peramalan Kunjungan Wisata Kota Batu"
   ]
  },
  {
   "cell_type": "markdown",
   "id": "4952e016",
   "metadata": {},
   "source": [
    "Dokumen ini menyajikan metodologi langkah demi langkah untuk proyek **Kota Batu Tourism Insight & Forecast Engine**. Tujuannya adalah untuk menganalisis data kunjungan historis, mengidentifikasi pola-pola kunci, dan membangun model *machine learning* untuk memprediksi volume wisatawan di masa depan. Pendekatan ini menggunakan data dari tahun 2022 dan 2024, dengan perhatian khusus pada penanganan kekosongan data pada tahun 2023."
   ]
  },
  {
   "cell_type": "markdown",
   "id": "5eac0934",
   "metadata": {},
   "source": [
    "\n",
    "### **Pendahuluan dan Tujuan**\n",
    "\n",
    "Notebook ini merupakan dokumentasi teknis untuk dasbor analitik pariwisata Kota Batu. Tujuannya adalah untuk melakukan analisis data secara komprehensif dan membangun tiga model peramalan yang berbeda untuk dibandingkan kinerjanya.\n",
    "\n",
    "**Metodologi yang Diterapkan:**\n",
    "1.  **Pemuatan & Pra-pemrosesan Data**: Memuat data mentah dari Excel, membersihkannya, dan melakukan interpolasi untuk mengisi data tahun 2023 yang kosong.\n",
    "2.  **Analisis Data Eksploratif (EDA)**: Memvalidasi hipotesis terkait tren, musiman, dan dependensi temporal.\n",
    "3.  **Perbandingan Kinerja Model**: Membangun dan mengevaluasi tiga model berbeda pada data uji (data yang belum pernah dilihat model):\n",
    "    * **SARIMA**: Model statistik klasik untuk data time series musiman.\n",
    "    * **Prophet**: Model dari Facebook yang andal untuk data dengan tren dan musiman yang kuat.\n",
    "    * **XGBoost**: Model *machine learning* berbasis *tree* yang dapat menangkap hubungan non-linear.\n",
    "4.  **Analisis Faktor Pendorong**: Menginterpretasikan model XGBoost untuk memahami faktor apa yang paling memengaruhi prediksi.\n",
    "5.  **Peramalan Masa Depan**: Menggunakan ketiga model untuk memproyeksikan jumlah kunjungan di masa mendatang."
   ]
  },
  {
   "cell_type": "code",
   "execution_count": 13,
   "id": "de1aa714",
   "metadata": {},
   "outputs": [
    {
     "name": "stdout",
     "output_type": "stream",
     "text": [
      "Semua library berhasil diimpor.\n"
     ]
    }
   ],
   "source": [
    "# Impor Library Awal (seluruh library yang dibutuhkan)\n",
    "import pandas as pd\n",
    "import numpy as np\n",
    "import plotly.express as px\n",
    "import plotly.graph_objects as go\n",
    "import warnings\n",
    "from pathlib import Path\n",
    "import matplotlib.pyplot as plt\n",
    "import seaborn as sns\n",
    "\n",
    "# Impor library untuk model dan evaluasi\n",
    "from statsmodels.tsa.statespace.sarimax import SARIMAX\n",
    "from statsmodels.tsa.stattools import acf\n",
    "from statsmodels.graphics.tsaplots import plot_acf\n",
    "from prophet import Prophet\n",
    "import xgboost as xgb\n",
    "from sklearn.metrics import mean_absolute_percentage_error, mean_squared_error\n",
    "\n",
    "# Pengaturan\n",
    "warnings.filterwarnings('ignore')\n",
    "px.defaults.template = \"plotly_white\"\n",
    "print(\"Semua library berhasil diimpor.\")"
   ]
  },
  {
   "cell_type": "markdown",
   "id": "5e30d2cc",
   "metadata": {},
   "source": [
    "## **1. Persiapan Data (Data Preparation)**"
   ]
  },
  {
   "cell_type": "markdown",
   "id": "3483307e",
   "metadata": {},
   "source": [
    "Tahap fundamental ini bertujuan untuk membersihkan, menstrukturkan, dan menggabungkan data mentah menjadi sebuah dataset yang siap untuk dianalisis dan dimodelkan. Kualitas dari tahap ini sangat menentukan keberhasilan tahap-tahap berikutnya."
   ]
  },
  {
   "cell_type": "markdown",
   "id": "939891c1",
   "metadata": {},
   "source": [
    "### **1.1. Pemuatan dan Penggabungan Data**"
   ]
  },
  {
   "cell_type": "markdown",
   "id": "3a7db7fb",
   "metadata": {},
   "source": [
    "Data kunjungan wisatawan tahun 2022 dan 2024 dimuat dari masing-masing file CSV. Kedua dataset ini kemudian digabungkan menjadi satu DataFrame tunggal untuk memungkinkan analisis deret waktu yang berkelanjutan, meskipun terdapat jeda waktu."
   ]
  },
  {
   "cell_type": "code",
   "execution_count": 14,
   "id": "295a6786",
   "metadata": {},
   "outputs": [
    {
     "name": "stdout",
     "output_type": "stream",
     "text": [
      "\n",
      "✅ Variabel `df_agregat` berhasil dibuat.\n"
     ]
    }
   ],
   "source": [
    "def load_and_merge_data():\n",
    "    \"\"\"\n",
    "    Fungsi final yang memuat, membersihkan, dan mentransformasi data dari file Excel.\n",
    "    \"\"\"\n",
    "    def find_header_row(excel_file, sheet_name):\n",
    "        try:\n",
    "            df_scan = pd.read_excel(excel_file, sheet_name=sheet_name, header=None)\n",
    "            max_score = 0\n",
    "            header_row = -1\n",
    "            keywords = ['NAMA', 'USAHA', 'JANUARI', 'FEBRUARI', 'MARET']\n",
    "            for i, row in df_scan.head(30).iterrows():\n",
    "                row_str = ' '.join(str(x).upper() for x in row.dropna())\n",
    "                score = sum(1 for keyword in keywords if keyword in row_str)\n",
    "                if score >= 2 and score > max_score:\n",
    "                    max_score = score\n",
    "                    header_row = i\n",
    "            return header_row if header_row != -1 else 20\n",
    "        except Exception:\n",
    "            return 20\n",
    "\n",
    "    def clean_sheet(df, year):\n",
    "        if df.empty: return pd.DataFrame()\n",
    "        df.columns = [str(col).strip() for col in df.columns]\n",
    "        df.dropna(how='all', inplace=True)\n",
    "        nama_usaha_col = next((col for col in df.columns if 'NAMA' in str(col).upper() and 'USAHA' in str(col).upper()), df.columns[1])\n",
    "        df = df.rename(columns={nama_usaha_col: 'destinasi'})\n",
    "        months = ['Januari', 'Februari', 'Maret', 'April', 'Mei', 'Juni', 'Juli', 'Agustus', 'September', 'Oktober', 'November', 'Desember']\n",
    "        existing_months = [col for col in months if col in df.columns]\n",
    "        if not existing_months: return pd.DataFrame()\n",
    "        df_filtered = df[pd.to_numeric(df['destinasi'], errors='coerce').isna()]\n",
    "        keywords_to_exclude = ['JUMLAH', 'KETERANGAN', 'Jumlah', 'TOTAL']\n",
    "        mask = ~df_filtered['destinasi'].astype(str).str.contains('|'.join(keywords_to_exclude), na=False, case=False)\n",
    "        df_filtered = df_filtered[mask]\n",
    "        if df_filtered.empty: return pd.DataFrame()\n",
    "        df_long = df_filtered.melt(id_vars='destinasi', value_vars=existing_months, var_name='bulan_str', value_name='jumlah_wisatawan')\n",
    "        df_long['jumlah_wisatawan'] = pd.to_numeric(df_long['jumlah_wisatawan'], errors='coerce').fillna(0)\n",
    "        month_map = {nama: i+1 for i, nama in enumerate(months)}\n",
    "        df_long['bulan'] = df_long['bulan_str'].map(month_map)\n",
    "        df_long['tahun'] = year\n",
    "        df_long.dropna(subset=['tahun', 'bulan'], inplace=True)\n",
    "        if df_long.empty: return pd.DataFrame()\n",
    "        df_long['tanggal'] = pd.to_datetime(df_long['tahun'].astype(str) + '-' + df_long['bulan'].astype(str) + '-01', errors='coerce')\n",
    "        df_long.dropna(subset=['tanggal'], inplace=True)\n",
    "        return df_long\n",
    "\n",
    "    excel_file_path = 'DDA2025_DinasPariwisata.xlsx'\n",
    "    try:\n",
    "        xls = pd.ExcelFile(excel_file_path)\n",
    "        header_2022 = find_header_row(xls, 'Data 2022')\n",
    "        header_2023 = find_header_row(xls, 'Data 2023')  \n",
    "        header_2024 = find_header_row(xls, 'Data 2024')\n",
    "        df_2022 = pd.read_excel(xls, sheet_name='Data 2022', skiprows=header_2022)\n",
    "        df_2023 = pd.read_excel(xls, sheet_name='Data 2023', skiprows=header_2023) \n",
    "        df_2024 = pd.read_excel(xls, sheet_name='Data 2024', skiprows=header_2024)\n",
    "    except FileNotFoundError:\n",
    "        print(f\"❌ ERROR: File '{excel_file_path}' tidak ditemukan!\")\n",
    "        return None\n",
    "    except Exception as e:\n",
    "        print(f\"❌ ERROR saat membaca file Excel: {e}\")\n",
    "        return None\n",
    "\n",
    "    # Bersihkan semua tahun\n",
    "    df_2022_clean = clean_sheet(df_2022, 2022)\n",
    "    df_2023_clean = clean_sheet(df_2023, 2023) \n",
    "    df_2024_clean = clean_sheet(df_2024, 2024)\n",
    "\n",
    "    if all(df.empty for df in [df_2022_clean, df_2023_clean, df_2024_clean]):\n",
    "        return None\n",
    "\n",
    "    df_full = pd.concat([df_2022_clean, df_2023_clean, df_2024_clean], ignore_index=True)\n",
    "    if df_full.empty: return None\n",
    "\n",
    "    df_agregat = df_full.groupby('tanggal')['jumlah_wisatawan'].sum().reset_index().set_index('tanggal')\n",
    "    return df_agregat\n",
    "\n",
    "\n",
    "# Panggil fungsi\n",
    "df_agregat = load_and_merge_data()\n",
    "if df_agregat is not None:\n",
    "    print(\"\\n✅ Variabel `df_agregat` berhasil dibuat.\")\n",
    "else:\n",
    "    print(\"\\n❌ Gagal membuat `df_agregat`. Periksa error di atas.\")\n"
   ]
  },
  {
   "cell_type": "markdown",
   "id": "9d789f55",
   "metadata": {},
   "source": [
    "### **1.2. Pembersihan dan Transformasi**"
   ]
  },
  {
   "cell_type": "markdown",
   "id": "f29b7a52",
   "metadata": {},
   "source": [
    "Proses ini adalah inti dari persiapan data, yang melibatkan beberapa langkah krusial:\n",
    "- **Transformasi Format (Wide-to-Long):** Dataset asli memiliki format *wide*, di mana setiap bulan adalah sebuah kolom. Format ini diubah menjadi format *long* (Tidy Data), di mana terdapat satu kolom untuk bulan dan satu kolom untuk jumlah wisatawan. Transformasi ini wajib dilakukan untuk hampir semua analisis deret waktu dan pemodelan di Python.\n",
    "- **Pembuatan Kolom `datetime`:** Kolom tanggal (`tanggal`) dibuat dengan menggabungkan informasi tahun dan bulan. Kolom ini menjadi indeks dari DataFrame, yang merupakan syarat utama untuk analisis deret waktu yang benar.\n",
    "- **Agregasi Data:** Untuk analisis makro awal, data dari semua destinasi dijumlahkan untuk mendapatkan total kunjungan wisatawan Kota Batu per bulan. Ini memberikan gambaran umum tentang tren pariwisata di seluruh kota.\n",
    "- **Penanganan Nilai Hilang:** Nilai-nilai yang tidak valid atau kosong pada kolom `jumlah_wisatawan` diisi dengan angka 0, dengan asumsi bahwa data kosong berarti tidak ada laporan kunjungan pada periode tersebut.\n",
    "\n",
    "---"
   ]
  },
  {
   "cell_type": "code",
   "execution_count": 15,
   "id": "eca8715a",
   "metadata": {},
   "outputs": [
    {
     "name": "stdout",
     "output_type": "stream",
     "text": [
      "✅ Data berhasil ditransformasi dan diinterpolasi.\n",
      "\n",
      "Info Data Final:\n",
      "<class 'pandas.core.frame.DataFrame'>\n",
      "DatetimeIndex: 36 entries, 2022-01-01 to 2024-12-01\n",
      "Freq: MS\n",
      "Data columns (total 1 columns):\n",
      " #   Column            Non-Null Count  Dtype  \n",
      "---  ------            --------------  -----  \n",
      " 0   jumlah_wisatawan  36 non-null     float64\n",
      "dtypes: float64(1)\n",
      "memory usage: 576.0 bytes\n",
      "\n",
      "5 Baris Pertama Data Final:\n",
      "            jumlah_wisatawan\n",
      "2022-01-01         1607143.0\n",
      "2022-02-01         1231924.0\n",
      "2022-03-01         1461713.0\n",
      "2022-04-01          528238.0\n",
      "2022-05-01         2906199.0\n"
     ]
    }
   ],
   "source": [
    "if df_agregat is not None:\n",
    "    # Membuat rentang tanggal penuh dari data agregat\n",
    "    full_date_range = pd.date_range(start=df_agregat.index.min(), end=df_agregat.index.max(), freq='MS')\n",
    "    df_final = df_agregat.reindex(full_date_range)\n",
    "    \n",
    "    # Melakukan interpolasi linear\n",
    "    df_final['jumlah_wisatawan'] = df_final['jumlah_wisatawan'].interpolate(method='linear').fillna(0)\n",
    "\n",
    "    print(\"✅ Data berhasil ditransformasi dan diinterpolasi.\")\n",
    "    print(\"\\nInfo Data Final:\")\n",
    "    df_final.info()\n",
    "    print(\"\\n5 Baris Pertama Data Final:\")\n",
    "    print(df_final.head())"
   ]
  },
  {
   "cell_type": "markdown",
   "id": "a0e5f036",
   "metadata": {},
   "source": [
    "## **2. Analisis Data Eksploratif (Exploratory Data Analysis - EDA)**"
   ]
  },
  {
   "cell_type": "markdown",
   "id": "f31b1788",
   "metadata": {},
   "source": [
    "EDA bertujuan untuk menggali wawasan awal, memahami karakteristik data, dan menguji hipotesis secara visual sebelum melangkah ke pemodelan yang lebih kompleks."
   ]
  },
  {
   "cell_type": "markdown",
   "id": "552363cf",
   "metadata": {},
   "source": [
    "### **2.1. Analisis Tren Keseluruhan**"
   ]
  },
  {
   "cell_type": "markdown",
   "id": "4ad9dc89",
   "metadata": {},
   "source": [
    "Grafik garis dari total kunjungan wisatawan dari waktu ke waktu diplot untuk mengidentifikasi tren jangka panjang, volatilitas, dan pola-pola utama. Visualisasi ini secara gamblang menunjukkan adanya **kekosongan data (gap) pada tahun 2023**, yang merupakan tantangan utama dalam proyek ini."
   ]
  },
  {
   "cell_type": "code",
   "execution_count": 17,
   "id": "f1fabe21",
   "metadata": {},
   "outputs": [
    {
     "name": "stdout",
     "output_type": "stream",
     "text": [
      "\n",
      "✅ Data siap untuk divisualisasikan. Memulai proses plotting...\n",
      "--------------------------------------------------\n",
      "\n",
      "Membuat plot: 3.1. Visualisasi Tren Kunjungan Bulanan...\n"
     ]
    },
    {
     "data": {
      "application/vnd.plotly.v1+json": {
       "config": {
        "plotlyServerURL": "https://plot.ly"
       },
       "data": [
        {
         "hovertemplate": "Tanggal=%{x}<br>Jumlah Pengunjung=%{y}<extra></extra>",
         "legendgroup": "",
         "line": {
          "color": "#636efa",
          "dash": "solid"
         },
         "marker": {
          "symbol": "circle"
         },
         "mode": "markers+lines",
         "name": "",
         "orientation": "v",
         "showlegend": false,
         "type": "scatter",
         "x": [
          "2022-01-01T00:00:00",
          "2022-02-01T00:00:00",
          "2022-03-01T00:00:00",
          "2022-04-01T00:00:00",
          "2022-05-01T00:00:00",
          "2022-06-01T00:00:00",
          "2022-07-01T00:00:00",
          "2022-08-01T00:00:00",
          "2022-09-01T00:00:00",
          "2022-10-01T00:00:00",
          "2022-11-01T00:00:00",
          "2022-12-01T00:00:00",
          "2023-01-01T00:00:00",
          "2023-02-01T00:00:00",
          "2023-03-01T00:00:00",
          "2023-04-01T00:00:00",
          "2023-05-01T00:00:00",
          "2023-06-01T00:00:00",
          "2023-07-01T00:00:00",
          "2023-08-01T00:00:00",
          "2023-09-01T00:00:00",
          "2023-10-01T00:00:00",
          "2023-11-01T00:00:00",
          "2023-12-01T00:00:00",
          "2024-01-01T00:00:00",
          "2024-02-01T00:00:00",
          "2024-03-01T00:00:00",
          "2024-04-01T00:00:00",
          "2024-05-01T00:00:00",
          "2024-06-01T00:00:00",
          "2024-07-01T00:00:00",
          "2024-08-01T00:00:00",
          "2024-09-01T00:00:00",
          "2024-10-01T00:00:00",
          "2024-11-01T00:00:00",
          "2024-12-01T00:00:00"
         ],
         "xaxis": "x",
         "y": [
          1607143,
          1231924,
          1461713,
          528238,
          2906199,
          2601280,
          2453001,
          1370061,
          1531850,
          1612253,
          1096317,
          2447519,
          2353100,
          1889443,
          1549358,
          1759122,
          2844083,
          2883654,
          2660286,
          1508556,
          1593221,
          1883482,
          1864244,
          3665705,
          2067160,
          2001249,
          1039815,
          1783052,
          2514731,
          2161075,
          1945741,
          1130841,
          2735576,
          1871233,
          1752325,
          3374936
         ],
         "yaxis": "y"
        }
       ],
       "layout": {
        "legend": {
         "tracegroupgap": 0
        },
        "template": {
         "data": {
          "bar": [
           {
            "error_x": {
             "color": "#2a3f5f"
            },
            "error_y": {
             "color": "#2a3f5f"
            },
            "marker": {
             "line": {
              "color": "white",
              "width": 0.5
             },
             "pattern": {
              "fillmode": "overlay",
              "size": 10,
              "solidity": 0.2
             }
            },
            "type": "bar"
           }
          ],
          "barpolar": [
           {
            "marker": {
             "line": {
              "color": "white",
              "width": 0.5
             },
             "pattern": {
              "fillmode": "overlay",
              "size": 10,
              "solidity": 0.2
             }
            },
            "type": "barpolar"
           }
          ],
          "carpet": [
           {
            "aaxis": {
             "endlinecolor": "#2a3f5f",
             "gridcolor": "#C8D4E3",
             "linecolor": "#C8D4E3",
             "minorgridcolor": "#C8D4E3",
             "startlinecolor": "#2a3f5f"
            },
            "baxis": {
             "endlinecolor": "#2a3f5f",
             "gridcolor": "#C8D4E3",
             "linecolor": "#C8D4E3",
             "minorgridcolor": "#C8D4E3",
             "startlinecolor": "#2a3f5f"
            },
            "type": "carpet"
           }
          ],
          "choropleth": [
           {
            "colorbar": {
             "outlinewidth": 0,
             "ticks": ""
            },
            "type": "choropleth"
           }
          ],
          "contour": [
           {
            "colorbar": {
             "outlinewidth": 0,
             "ticks": ""
            },
            "colorscale": [
             [
              0,
              "#0d0887"
             ],
             [
              0.1111111111111111,
              "#46039f"
             ],
             [
              0.2222222222222222,
              "#7201a8"
             ],
             [
              0.3333333333333333,
              "#9c179e"
             ],
             [
              0.4444444444444444,
              "#bd3786"
             ],
             [
              0.5555555555555556,
              "#d8576b"
             ],
             [
              0.6666666666666666,
              "#ed7953"
             ],
             [
              0.7777777777777778,
              "#fb9f3a"
             ],
             [
              0.8888888888888888,
              "#fdca26"
             ],
             [
              1,
              "#f0f921"
             ]
            ],
            "type": "contour"
           }
          ],
          "contourcarpet": [
           {
            "colorbar": {
             "outlinewidth": 0,
             "ticks": ""
            },
            "type": "contourcarpet"
           }
          ],
          "heatmap": [
           {
            "colorbar": {
             "outlinewidth": 0,
             "ticks": ""
            },
            "colorscale": [
             [
              0,
              "#0d0887"
             ],
             [
              0.1111111111111111,
              "#46039f"
             ],
             [
              0.2222222222222222,
              "#7201a8"
             ],
             [
              0.3333333333333333,
              "#9c179e"
             ],
             [
              0.4444444444444444,
              "#bd3786"
             ],
             [
              0.5555555555555556,
              "#d8576b"
             ],
             [
              0.6666666666666666,
              "#ed7953"
             ],
             [
              0.7777777777777778,
              "#fb9f3a"
             ],
             [
              0.8888888888888888,
              "#fdca26"
             ],
             [
              1,
              "#f0f921"
             ]
            ],
            "type": "heatmap"
           }
          ],
          "heatmapgl": [
           {
            "colorbar": {
             "outlinewidth": 0,
             "ticks": ""
            },
            "colorscale": [
             [
              0,
              "#0d0887"
             ],
             [
              0.1111111111111111,
              "#46039f"
             ],
             [
              0.2222222222222222,
              "#7201a8"
             ],
             [
              0.3333333333333333,
              "#9c179e"
             ],
             [
              0.4444444444444444,
              "#bd3786"
             ],
             [
              0.5555555555555556,
              "#d8576b"
             ],
             [
              0.6666666666666666,
              "#ed7953"
             ],
             [
              0.7777777777777778,
              "#fb9f3a"
             ],
             [
              0.8888888888888888,
              "#fdca26"
             ],
             [
              1,
              "#f0f921"
             ]
            ],
            "type": "heatmapgl"
           }
          ],
          "histogram": [
           {
            "marker": {
             "pattern": {
              "fillmode": "overlay",
              "size": 10,
              "solidity": 0.2
             }
            },
            "type": "histogram"
           }
          ],
          "histogram2d": [
           {
            "colorbar": {
             "outlinewidth": 0,
             "ticks": ""
            },
            "colorscale": [
             [
              0,
              "#0d0887"
             ],
             [
              0.1111111111111111,
              "#46039f"
             ],
             [
              0.2222222222222222,
              "#7201a8"
             ],
             [
              0.3333333333333333,
              "#9c179e"
             ],
             [
              0.4444444444444444,
              "#bd3786"
             ],
             [
              0.5555555555555556,
              "#d8576b"
             ],
             [
              0.6666666666666666,
              "#ed7953"
             ],
             [
              0.7777777777777778,
              "#fb9f3a"
             ],
             [
              0.8888888888888888,
              "#fdca26"
             ],
             [
              1,
              "#f0f921"
             ]
            ],
            "type": "histogram2d"
           }
          ],
          "histogram2dcontour": [
           {
            "colorbar": {
             "outlinewidth": 0,
             "ticks": ""
            },
            "colorscale": [
             [
              0,
              "#0d0887"
             ],
             [
              0.1111111111111111,
              "#46039f"
             ],
             [
              0.2222222222222222,
              "#7201a8"
             ],
             [
              0.3333333333333333,
              "#9c179e"
             ],
             [
              0.4444444444444444,
              "#bd3786"
             ],
             [
              0.5555555555555556,
              "#d8576b"
             ],
             [
              0.6666666666666666,
              "#ed7953"
             ],
             [
              0.7777777777777778,
              "#fb9f3a"
             ],
             [
              0.8888888888888888,
              "#fdca26"
             ],
             [
              1,
              "#f0f921"
             ]
            ],
            "type": "histogram2dcontour"
           }
          ],
          "mesh3d": [
           {
            "colorbar": {
             "outlinewidth": 0,
             "ticks": ""
            },
            "type": "mesh3d"
           }
          ],
          "parcoords": [
           {
            "line": {
             "colorbar": {
              "outlinewidth": 0,
              "ticks": ""
             }
            },
            "type": "parcoords"
           }
          ],
          "pie": [
           {
            "automargin": true,
            "type": "pie"
           }
          ],
          "scatter": [
           {
            "fillpattern": {
             "fillmode": "overlay",
             "size": 10,
             "solidity": 0.2
            },
            "type": "scatter"
           }
          ],
          "scatter3d": [
           {
            "line": {
             "colorbar": {
              "outlinewidth": 0,
              "ticks": ""
             }
            },
            "marker": {
             "colorbar": {
              "outlinewidth": 0,
              "ticks": ""
             }
            },
            "type": "scatter3d"
           }
          ],
          "scattercarpet": [
           {
            "marker": {
             "colorbar": {
              "outlinewidth": 0,
              "ticks": ""
             }
            },
            "type": "scattercarpet"
           }
          ],
          "scattergeo": [
           {
            "marker": {
             "colorbar": {
              "outlinewidth": 0,
              "ticks": ""
             }
            },
            "type": "scattergeo"
           }
          ],
          "scattergl": [
           {
            "marker": {
             "colorbar": {
              "outlinewidth": 0,
              "ticks": ""
             }
            },
            "type": "scattergl"
           }
          ],
          "scattermapbox": [
           {
            "marker": {
             "colorbar": {
              "outlinewidth": 0,
              "ticks": ""
             }
            },
            "type": "scattermapbox"
           }
          ],
          "scatterpolar": [
           {
            "marker": {
             "colorbar": {
              "outlinewidth": 0,
              "ticks": ""
             }
            },
            "type": "scatterpolar"
           }
          ],
          "scatterpolargl": [
           {
            "marker": {
             "colorbar": {
              "outlinewidth": 0,
              "ticks": ""
             }
            },
            "type": "scatterpolargl"
           }
          ],
          "scatterternary": [
           {
            "marker": {
             "colorbar": {
              "outlinewidth": 0,
              "ticks": ""
             }
            },
            "type": "scatterternary"
           }
          ],
          "surface": [
           {
            "colorbar": {
             "outlinewidth": 0,
             "ticks": ""
            },
            "colorscale": [
             [
              0,
              "#0d0887"
             ],
             [
              0.1111111111111111,
              "#46039f"
             ],
             [
              0.2222222222222222,
              "#7201a8"
             ],
             [
              0.3333333333333333,
              "#9c179e"
             ],
             [
              0.4444444444444444,
              "#bd3786"
             ],
             [
              0.5555555555555556,
              "#d8576b"
             ],
             [
              0.6666666666666666,
              "#ed7953"
             ],
             [
              0.7777777777777778,
              "#fb9f3a"
             ],
             [
              0.8888888888888888,
              "#fdca26"
             ],
             [
              1,
              "#f0f921"
             ]
            ],
            "type": "surface"
           }
          ],
          "table": [
           {
            "cells": {
             "fill": {
              "color": "#EBF0F8"
             },
             "line": {
              "color": "white"
             }
            },
            "header": {
             "fill": {
              "color": "#C8D4E3"
             },
             "line": {
              "color": "white"
             }
            },
            "type": "table"
           }
          ]
         },
         "layout": {
          "annotationdefaults": {
           "arrowcolor": "#2a3f5f",
           "arrowhead": 0,
           "arrowwidth": 1
          },
          "autotypenumbers": "strict",
          "coloraxis": {
           "colorbar": {
            "outlinewidth": 0,
            "ticks": ""
           }
          },
          "colorscale": {
           "diverging": [
            [
             0,
             "#8e0152"
            ],
            [
             0.1,
             "#c51b7d"
            ],
            [
             0.2,
             "#de77ae"
            ],
            [
             0.3,
             "#f1b6da"
            ],
            [
             0.4,
             "#fde0ef"
            ],
            [
             0.5,
             "#f7f7f7"
            ],
            [
             0.6,
             "#e6f5d0"
            ],
            [
             0.7,
             "#b8e186"
            ],
            [
             0.8,
             "#7fbc41"
            ],
            [
             0.9,
             "#4d9221"
            ],
            [
             1,
             "#276419"
            ]
           ],
           "sequential": [
            [
             0,
             "#0d0887"
            ],
            [
             0.1111111111111111,
             "#46039f"
            ],
            [
             0.2222222222222222,
             "#7201a8"
            ],
            [
             0.3333333333333333,
             "#9c179e"
            ],
            [
             0.4444444444444444,
             "#bd3786"
            ],
            [
             0.5555555555555556,
             "#d8576b"
            ],
            [
             0.6666666666666666,
             "#ed7953"
            ],
            [
             0.7777777777777778,
             "#fb9f3a"
            ],
            [
             0.8888888888888888,
             "#fdca26"
            ],
            [
             1,
             "#f0f921"
            ]
           ],
           "sequentialminus": [
            [
             0,
             "#0d0887"
            ],
            [
             0.1111111111111111,
             "#46039f"
            ],
            [
             0.2222222222222222,
             "#7201a8"
            ],
            [
             0.3333333333333333,
             "#9c179e"
            ],
            [
             0.4444444444444444,
             "#bd3786"
            ],
            [
             0.5555555555555556,
             "#d8576b"
            ],
            [
             0.6666666666666666,
             "#ed7953"
            ],
            [
             0.7777777777777778,
             "#fb9f3a"
            ],
            [
             0.8888888888888888,
             "#fdca26"
            ],
            [
             1,
             "#f0f921"
            ]
           ]
          },
          "colorway": [
           "#636efa",
           "#EF553B",
           "#00cc96",
           "#ab63fa",
           "#FFA15A",
           "#19d3f3",
           "#FF6692",
           "#B6E880",
           "#FF97FF",
           "#FECB52"
          ],
          "font": {
           "color": "#2a3f5f"
          },
          "geo": {
           "bgcolor": "white",
           "lakecolor": "white",
           "landcolor": "white",
           "showlakes": true,
           "showland": true,
           "subunitcolor": "#C8D4E3"
          },
          "hoverlabel": {
           "align": "left"
          },
          "hovermode": "closest",
          "mapbox": {
           "style": "light"
          },
          "paper_bgcolor": "white",
          "plot_bgcolor": "white",
          "polar": {
           "angularaxis": {
            "gridcolor": "#EBF0F8",
            "linecolor": "#EBF0F8",
            "ticks": ""
           },
           "bgcolor": "white",
           "radialaxis": {
            "gridcolor": "#EBF0F8",
            "linecolor": "#EBF0F8",
            "ticks": ""
           }
          },
          "scene": {
           "xaxis": {
            "backgroundcolor": "white",
            "gridcolor": "#DFE8F3",
            "gridwidth": 2,
            "linecolor": "#EBF0F8",
            "showbackground": true,
            "ticks": "",
            "zerolinecolor": "#EBF0F8"
           },
           "yaxis": {
            "backgroundcolor": "white",
            "gridcolor": "#DFE8F3",
            "gridwidth": 2,
            "linecolor": "#EBF0F8",
            "showbackground": true,
            "ticks": "",
            "zerolinecolor": "#EBF0F8"
           },
           "zaxis": {
            "backgroundcolor": "white",
            "gridcolor": "#DFE8F3",
            "gridwidth": 2,
            "linecolor": "#EBF0F8",
            "showbackground": true,
            "ticks": "",
            "zerolinecolor": "#EBF0F8"
           }
          },
          "shapedefaults": {
           "line": {
            "color": "#2a3f5f"
           }
          },
          "ternary": {
           "aaxis": {
            "gridcolor": "#DFE8F3",
            "linecolor": "#A2B1C6",
            "ticks": ""
           },
           "baxis": {
            "gridcolor": "#DFE8F3",
            "linecolor": "#A2B1C6",
            "ticks": ""
           },
           "bgcolor": "white",
           "caxis": {
            "gridcolor": "#DFE8F3",
            "linecolor": "#A2B1C6",
            "ticks": ""
           }
          },
          "title": {
           "x": 0.05
          },
          "xaxis": {
           "automargin": true,
           "gridcolor": "#EBF0F8",
           "linecolor": "#EBF0F8",
           "ticks": "",
           "title": {
            "standoff": 15
           },
           "zerolinecolor": "#EBF0F8",
           "zerolinewidth": 2
          },
          "yaxis": {
           "automargin": true,
           "gridcolor": "#EBF0F8",
           "linecolor": "#EBF0F8",
           "ticks": "",
           "title": {
            "standoff": 15
           },
           "zerolinecolor": "#EBF0F8",
           "zerolinewidth": 2
          }
         }
        },
        "title": {
         "text": "Tren Total Kunjungan Wisatawan Bulanan (2022-2024)"
        },
        "xaxis": {
         "anchor": "y",
         "domain": [
          0,
          1
         ],
         "title": {
          "text": "Tanggal"
         }
        },
        "yaxis": {
         "anchor": "x",
         "domain": [
          0,
          1
         ],
         "title": {
          "text": "Jumlah Pengunjung"
         }
        }
       }
      }
     },
     "metadata": {},
     "output_type": "display_data"
    },
    {
     "name": "stdout",
     "output_type": "stream",
     "text": [
      "Membuat plot: 3.2. Analisis Musiman...\n"
     ]
    },
    {
     "data": {
      "application/vnd.plotly.v1+json": {
       "config": {
        "plotlyServerURL": "https://plot.ly"
       },
       "data": [
        {
         "alignmentgroup": "True",
         "hovertemplate": "Bulan=%{x}<br>Jumlah Pengunjung=%{y}<extra></extra>",
         "legendgroup": "",
         "marker": {
          "color": "#636efa"
         },
         "name": "",
         "notched": false,
         "offsetgroup": "",
         "orientation": "v",
         "showlegend": false,
         "type": "box",
         "x": [
          "January",
          "February",
          "March",
          "April",
          "May",
          "June",
          "July",
          "August",
          "September",
          "October",
          "November",
          "December",
          "January",
          "February",
          "March",
          "April",
          "May",
          "June",
          "July",
          "August",
          "September",
          "October",
          "November",
          "December",
          "January",
          "February",
          "March",
          "April",
          "May",
          "June",
          "July",
          "August",
          "September",
          "October",
          "November",
          "December"
         ],
         "x0": " ",
         "xaxis": "x",
         "y": [
          1607143,
          1231924,
          1461713,
          528238,
          2906199,
          2601280,
          2453001,
          1370061,
          1531850,
          1612253,
          1096317,
          2447519,
          2353100,
          1889443,
          1549358,
          1759122,
          2844083,
          2883654,
          2660286,
          1508556,
          1593221,
          1883482,
          1864244,
          3665705,
          2067160,
          2001249,
          1039815,
          1783052,
          2514731,
          2161075,
          1945741,
          1130841,
          2735576,
          1871233,
          1752325,
          3374936
         ],
         "y0": " ",
         "yaxis": "y"
        }
       ],
       "layout": {
        "boxmode": "group",
        "legend": {
         "tracegroupgap": 0
        },
        "template": {
         "data": {
          "bar": [
           {
            "error_x": {
             "color": "#2a3f5f"
            },
            "error_y": {
             "color": "#2a3f5f"
            },
            "marker": {
             "line": {
              "color": "white",
              "width": 0.5
             },
             "pattern": {
              "fillmode": "overlay",
              "size": 10,
              "solidity": 0.2
             }
            },
            "type": "bar"
           }
          ],
          "barpolar": [
           {
            "marker": {
             "line": {
              "color": "white",
              "width": 0.5
             },
             "pattern": {
              "fillmode": "overlay",
              "size": 10,
              "solidity": 0.2
             }
            },
            "type": "barpolar"
           }
          ],
          "carpet": [
           {
            "aaxis": {
             "endlinecolor": "#2a3f5f",
             "gridcolor": "#C8D4E3",
             "linecolor": "#C8D4E3",
             "minorgridcolor": "#C8D4E3",
             "startlinecolor": "#2a3f5f"
            },
            "baxis": {
             "endlinecolor": "#2a3f5f",
             "gridcolor": "#C8D4E3",
             "linecolor": "#C8D4E3",
             "minorgridcolor": "#C8D4E3",
             "startlinecolor": "#2a3f5f"
            },
            "type": "carpet"
           }
          ],
          "choropleth": [
           {
            "colorbar": {
             "outlinewidth": 0,
             "ticks": ""
            },
            "type": "choropleth"
           }
          ],
          "contour": [
           {
            "colorbar": {
             "outlinewidth": 0,
             "ticks": ""
            },
            "colorscale": [
             [
              0,
              "#0d0887"
             ],
             [
              0.1111111111111111,
              "#46039f"
             ],
             [
              0.2222222222222222,
              "#7201a8"
             ],
             [
              0.3333333333333333,
              "#9c179e"
             ],
             [
              0.4444444444444444,
              "#bd3786"
             ],
             [
              0.5555555555555556,
              "#d8576b"
             ],
             [
              0.6666666666666666,
              "#ed7953"
             ],
             [
              0.7777777777777778,
              "#fb9f3a"
             ],
             [
              0.8888888888888888,
              "#fdca26"
             ],
             [
              1,
              "#f0f921"
             ]
            ],
            "type": "contour"
           }
          ],
          "contourcarpet": [
           {
            "colorbar": {
             "outlinewidth": 0,
             "ticks": ""
            },
            "type": "contourcarpet"
           }
          ],
          "heatmap": [
           {
            "colorbar": {
             "outlinewidth": 0,
             "ticks": ""
            },
            "colorscale": [
             [
              0,
              "#0d0887"
             ],
             [
              0.1111111111111111,
              "#46039f"
             ],
             [
              0.2222222222222222,
              "#7201a8"
             ],
             [
              0.3333333333333333,
              "#9c179e"
             ],
             [
              0.4444444444444444,
              "#bd3786"
             ],
             [
              0.5555555555555556,
              "#d8576b"
             ],
             [
              0.6666666666666666,
              "#ed7953"
             ],
             [
              0.7777777777777778,
              "#fb9f3a"
             ],
             [
              0.8888888888888888,
              "#fdca26"
             ],
             [
              1,
              "#f0f921"
             ]
            ],
            "type": "heatmap"
           }
          ],
          "heatmapgl": [
           {
            "colorbar": {
             "outlinewidth": 0,
             "ticks": ""
            },
            "colorscale": [
             [
              0,
              "#0d0887"
             ],
             [
              0.1111111111111111,
              "#46039f"
             ],
             [
              0.2222222222222222,
              "#7201a8"
             ],
             [
              0.3333333333333333,
              "#9c179e"
             ],
             [
              0.4444444444444444,
              "#bd3786"
             ],
             [
              0.5555555555555556,
              "#d8576b"
             ],
             [
              0.6666666666666666,
              "#ed7953"
             ],
             [
              0.7777777777777778,
              "#fb9f3a"
             ],
             [
              0.8888888888888888,
              "#fdca26"
             ],
             [
              1,
              "#f0f921"
             ]
            ],
            "type": "heatmapgl"
           }
          ],
          "histogram": [
           {
            "marker": {
             "pattern": {
              "fillmode": "overlay",
              "size": 10,
              "solidity": 0.2
             }
            },
            "type": "histogram"
           }
          ],
          "histogram2d": [
           {
            "colorbar": {
             "outlinewidth": 0,
             "ticks": ""
            },
            "colorscale": [
             [
              0,
              "#0d0887"
             ],
             [
              0.1111111111111111,
              "#46039f"
             ],
             [
              0.2222222222222222,
              "#7201a8"
             ],
             [
              0.3333333333333333,
              "#9c179e"
             ],
             [
              0.4444444444444444,
              "#bd3786"
             ],
             [
              0.5555555555555556,
              "#d8576b"
             ],
             [
              0.6666666666666666,
              "#ed7953"
             ],
             [
              0.7777777777777778,
              "#fb9f3a"
             ],
             [
              0.8888888888888888,
              "#fdca26"
             ],
             [
              1,
              "#f0f921"
             ]
            ],
            "type": "histogram2d"
           }
          ],
          "histogram2dcontour": [
           {
            "colorbar": {
             "outlinewidth": 0,
             "ticks": ""
            },
            "colorscale": [
             [
              0,
              "#0d0887"
             ],
             [
              0.1111111111111111,
              "#46039f"
             ],
             [
              0.2222222222222222,
              "#7201a8"
             ],
             [
              0.3333333333333333,
              "#9c179e"
             ],
             [
              0.4444444444444444,
              "#bd3786"
             ],
             [
              0.5555555555555556,
              "#d8576b"
             ],
             [
              0.6666666666666666,
              "#ed7953"
             ],
             [
              0.7777777777777778,
              "#fb9f3a"
             ],
             [
              0.8888888888888888,
              "#fdca26"
             ],
             [
              1,
              "#f0f921"
             ]
            ],
            "type": "histogram2dcontour"
           }
          ],
          "mesh3d": [
           {
            "colorbar": {
             "outlinewidth": 0,
             "ticks": ""
            },
            "type": "mesh3d"
           }
          ],
          "parcoords": [
           {
            "line": {
             "colorbar": {
              "outlinewidth": 0,
              "ticks": ""
             }
            },
            "type": "parcoords"
           }
          ],
          "pie": [
           {
            "automargin": true,
            "type": "pie"
           }
          ],
          "scatter": [
           {
            "fillpattern": {
             "fillmode": "overlay",
             "size": 10,
             "solidity": 0.2
            },
            "type": "scatter"
           }
          ],
          "scatter3d": [
           {
            "line": {
             "colorbar": {
              "outlinewidth": 0,
              "ticks": ""
             }
            },
            "marker": {
             "colorbar": {
              "outlinewidth": 0,
              "ticks": ""
             }
            },
            "type": "scatter3d"
           }
          ],
          "scattercarpet": [
           {
            "marker": {
             "colorbar": {
              "outlinewidth": 0,
              "ticks": ""
             }
            },
            "type": "scattercarpet"
           }
          ],
          "scattergeo": [
           {
            "marker": {
             "colorbar": {
              "outlinewidth": 0,
              "ticks": ""
             }
            },
            "type": "scattergeo"
           }
          ],
          "scattergl": [
           {
            "marker": {
             "colorbar": {
              "outlinewidth": 0,
              "ticks": ""
             }
            },
            "type": "scattergl"
           }
          ],
          "scattermapbox": [
           {
            "marker": {
             "colorbar": {
              "outlinewidth": 0,
              "ticks": ""
             }
            },
            "type": "scattermapbox"
           }
          ],
          "scatterpolar": [
           {
            "marker": {
             "colorbar": {
              "outlinewidth": 0,
              "ticks": ""
             }
            },
            "type": "scatterpolar"
           }
          ],
          "scatterpolargl": [
           {
            "marker": {
             "colorbar": {
              "outlinewidth": 0,
              "ticks": ""
             }
            },
            "type": "scatterpolargl"
           }
          ],
          "scatterternary": [
           {
            "marker": {
             "colorbar": {
              "outlinewidth": 0,
              "ticks": ""
             }
            },
            "type": "scatterternary"
           }
          ],
          "surface": [
           {
            "colorbar": {
             "outlinewidth": 0,
             "ticks": ""
            },
            "colorscale": [
             [
              0,
              "#0d0887"
             ],
             [
              0.1111111111111111,
              "#46039f"
             ],
             [
              0.2222222222222222,
              "#7201a8"
             ],
             [
              0.3333333333333333,
              "#9c179e"
             ],
             [
              0.4444444444444444,
              "#bd3786"
             ],
             [
              0.5555555555555556,
              "#d8576b"
             ],
             [
              0.6666666666666666,
              "#ed7953"
             ],
             [
              0.7777777777777778,
              "#fb9f3a"
             ],
             [
              0.8888888888888888,
              "#fdca26"
             ],
             [
              1,
              "#f0f921"
             ]
            ],
            "type": "surface"
           }
          ],
          "table": [
           {
            "cells": {
             "fill": {
              "color": "#EBF0F8"
             },
             "line": {
              "color": "white"
             }
            },
            "header": {
             "fill": {
              "color": "#C8D4E3"
             },
             "line": {
              "color": "white"
             }
            },
            "type": "table"
           }
          ]
         },
         "layout": {
          "annotationdefaults": {
           "arrowcolor": "#2a3f5f",
           "arrowhead": 0,
           "arrowwidth": 1
          },
          "autotypenumbers": "strict",
          "coloraxis": {
           "colorbar": {
            "outlinewidth": 0,
            "ticks": ""
           }
          },
          "colorscale": {
           "diverging": [
            [
             0,
             "#8e0152"
            ],
            [
             0.1,
             "#c51b7d"
            ],
            [
             0.2,
             "#de77ae"
            ],
            [
             0.3,
             "#f1b6da"
            ],
            [
             0.4,
             "#fde0ef"
            ],
            [
             0.5,
             "#f7f7f7"
            ],
            [
             0.6,
             "#e6f5d0"
            ],
            [
             0.7,
             "#b8e186"
            ],
            [
             0.8,
             "#7fbc41"
            ],
            [
             0.9,
             "#4d9221"
            ],
            [
             1,
             "#276419"
            ]
           ],
           "sequential": [
            [
             0,
             "#0d0887"
            ],
            [
             0.1111111111111111,
             "#46039f"
            ],
            [
             0.2222222222222222,
             "#7201a8"
            ],
            [
             0.3333333333333333,
             "#9c179e"
            ],
            [
             0.4444444444444444,
             "#bd3786"
            ],
            [
             0.5555555555555556,
             "#d8576b"
            ],
            [
             0.6666666666666666,
             "#ed7953"
            ],
            [
             0.7777777777777778,
             "#fb9f3a"
            ],
            [
             0.8888888888888888,
             "#fdca26"
            ],
            [
             1,
             "#f0f921"
            ]
           ],
           "sequentialminus": [
            [
             0,
             "#0d0887"
            ],
            [
             0.1111111111111111,
             "#46039f"
            ],
            [
             0.2222222222222222,
             "#7201a8"
            ],
            [
             0.3333333333333333,
             "#9c179e"
            ],
            [
             0.4444444444444444,
             "#bd3786"
            ],
            [
             0.5555555555555556,
             "#d8576b"
            ],
            [
             0.6666666666666666,
             "#ed7953"
            ],
            [
             0.7777777777777778,
             "#fb9f3a"
            ],
            [
             0.8888888888888888,
             "#fdca26"
            ],
            [
             1,
             "#f0f921"
            ]
           ]
          },
          "colorway": [
           "#636efa",
           "#EF553B",
           "#00cc96",
           "#ab63fa",
           "#FFA15A",
           "#19d3f3",
           "#FF6692",
           "#B6E880",
           "#FF97FF",
           "#FECB52"
          ],
          "font": {
           "color": "#2a3f5f"
          },
          "geo": {
           "bgcolor": "white",
           "lakecolor": "white",
           "landcolor": "white",
           "showlakes": true,
           "showland": true,
           "subunitcolor": "#C8D4E3"
          },
          "hoverlabel": {
           "align": "left"
          },
          "hovermode": "closest",
          "mapbox": {
           "style": "light"
          },
          "paper_bgcolor": "white",
          "plot_bgcolor": "white",
          "polar": {
           "angularaxis": {
            "gridcolor": "#EBF0F8",
            "linecolor": "#EBF0F8",
            "ticks": ""
           },
           "bgcolor": "white",
           "radialaxis": {
            "gridcolor": "#EBF0F8",
            "linecolor": "#EBF0F8",
            "ticks": ""
           }
          },
          "scene": {
           "xaxis": {
            "backgroundcolor": "white",
            "gridcolor": "#DFE8F3",
            "gridwidth": 2,
            "linecolor": "#EBF0F8",
            "showbackground": true,
            "ticks": "",
            "zerolinecolor": "#EBF0F8"
           },
           "yaxis": {
            "backgroundcolor": "white",
            "gridcolor": "#DFE8F3",
            "gridwidth": 2,
            "linecolor": "#EBF0F8",
            "showbackground": true,
            "ticks": "",
            "zerolinecolor": "#EBF0F8"
           },
           "zaxis": {
            "backgroundcolor": "white",
            "gridcolor": "#DFE8F3",
            "gridwidth": 2,
            "linecolor": "#EBF0F8",
            "showbackground": true,
            "ticks": "",
            "zerolinecolor": "#EBF0F8"
           }
          },
          "shapedefaults": {
           "line": {
            "color": "#2a3f5f"
           }
          },
          "ternary": {
           "aaxis": {
            "gridcolor": "#DFE8F3",
            "linecolor": "#A2B1C6",
            "ticks": ""
           },
           "baxis": {
            "gridcolor": "#DFE8F3",
            "linecolor": "#A2B1C6",
            "ticks": ""
           },
           "bgcolor": "white",
           "caxis": {
            "gridcolor": "#DFE8F3",
            "linecolor": "#A2B1C6",
            "ticks": ""
           }
          },
          "title": {
           "x": 0.05
          },
          "xaxis": {
           "automargin": true,
           "gridcolor": "#EBF0F8",
           "linecolor": "#EBF0F8",
           "ticks": "",
           "title": {
            "standoff": 15
           },
           "zerolinecolor": "#EBF0F8",
           "zerolinewidth": 2
          },
          "yaxis": {
           "automargin": true,
           "gridcolor": "#EBF0F8",
           "linecolor": "#EBF0F8",
           "ticks": "",
           "title": {
            "standoff": 15
           },
           "zerolinecolor": "#EBF0F8",
           "zerolinewidth": 2
          }
         }
        },
        "title": {
         "text": "Analisis Musiman: Distribusi Kunjungan per Bulan"
        },
        "xaxis": {
         "anchor": "y",
         "categoryarray": [
          "January",
          "February",
          "March",
          "April",
          "May",
          "June",
          "July",
          "August",
          "September",
          "October",
          "November",
          "December"
         ],
         "categoryorder": "array",
         "domain": [
          0,
          1
         ],
         "title": {
          "text": "Bulan"
         }
        },
        "yaxis": {
         "anchor": "x",
         "domain": [
          0,
          1
         ],
         "title": {
          "text": "Jumlah Pengunjung"
         }
        }
       }
      }
     },
     "metadata": {},
     "output_type": "display_data"
    },
    {
     "name": "stdout",
     "output_type": "stream",
     "text": [
      "Membuat plot: 3.3. Analisis Dependensi Temporal...\n"
     ]
    },
    {
     "data": {
      "application/vnd.plotly.v1+json": {
       "config": {
        "plotlyServerURL": "https://plot.ly"
       },
       "data": [
        {
         "name": "Autocorrelation",
         "type": "bar",
         "x": [
          0,
          1,
          2,
          3,
          4,
          5,
          6,
          7,
          8,
          9,
          10,
          11,
          12
         ],
         "y": [
          1,
          0.0923420390090781,
          -0.1275809791182055,
          -0.3083120863069654,
          -0.2090275505137523,
          0.19893262146431998,
          0.16267940543203632,
          0.2990545188084882,
          -0.2228671569915765,
          -0.2073868105623772,
          -0.10577419809062995,
          0.1331108515268179,
          0.43117186958899567
         ]
        }
       ],
       "layout": {
        "shapes": [
         {
          "line": {
           "color": "rgba(0,0,0,0.3)",
           "dash": "dash"
          },
          "type": "line",
          "x0": -0.5,
          "x1": 12.5,
          "y0": 0.32666666666666666,
          "y1": 0.32666666666666666
         },
         {
          "line": {
           "color": "rgba(0,0,0,0.3)",
           "dash": "dash"
          },
          "type": "line",
          "x0": -0.5,
          "x1": 12.5,
          "y0": -0.32666666666666666,
          "y1": -0.32666666666666666
         }
        ],
        "template": {
         "data": {
          "bar": [
           {
            "error_x": {
             "color": "#2a3f5f"
            },
            "error_y": {
             "color": "#2a3f5f"
            },
            "marker": {
             "line": {
              "color": "#E5ECF6",
              "width": 0.5
             },
             "pattern": {
              "fillmode": "overlay",
              "size": 10,
              "solidity": 0.2
             }
            },
            "type": "bar"
           }
          ],
          "barpolar": [
           {
            "marker": {
             "line": {
              "color": "#E5ECF6",
              "width": 0.5
             },
             "pattern": {
              "fillmode": "overlay",
              "size": 10,
              "solidity": 0.2
             }
            },
            "type": "barpolar"
           }
          ],
          "carpet": [
           {
            "aaxis": {
             "endlinecolor": "#2a3f5f",
             "gridcolor": "white",
             "linecolor": "white",
             "minorgridcolor": "white",
             "startlinecolor": "#2a3f5f"
            },
            "baxis": {
             "endlinecolor": "#2a3f5f",
             "gridcolor": "white",
             "linecolor": "white",
             "minorgridcolor": "white",
             "startlinecolor": "#2a3f5f"
            },
            "type": "carpet"
           }
          ],
          "choropleth": [
           {
            "colorbar": {
             "outlinewidth": 0,
             "ticks": ""
            },
            "type": "choropleth"
           }
          ],
          "contour": [
           {
            "colorbar": {
             "outlinewidth": 0,
             "ticks": ""
            },
            "colorscale": [
             [
              0,
              "#0d0887"
             ],
             [
              0.1111111111111111,
              "#46039f"
             ],
             [
              0.2222222222222222,
              "#7201a8"
             ],
             [
              0.3333333333333333,
              "#9c179e"
             ],
             [
              0.4444444444444444,
              "#bd3786"
             ],
             [
              0.5555555555555556,
              "#d8576b"
             ],
             [
              0.6666666666666666,
              "#ed7953"
             ],
             [
              0.7777777777777778,
              "#fb9f3a"
             ],
             [
              0.8888888888888888,
              "#fdca26"
             ],
             [
              1,
              "#f0f921"
             ]
            ],
            "type": "contour"
           }
          ],
          "contourcarpet": [
           {
            "colorbar": {
             "outlinewidth": 0,
             "ticks": ""
            },
            "type": "contourcarpet"
           }
          ],
          "heatmap": [
           {
            "colorbar": {
             "outlinewidth": 0,
             "ticks": ""
            },
            "colorscale": [
             [
              0,
              "#0d0887"
             ],
             [
              0.1111111111111111,
              "#46039f"
             ],
             [
              0.2222222222222222,
              "#7201a8"
             ],
             [
              0.3333333333333333,
              "#9c179e"
             ],
             [
              0.4444444444444444,
              "#bd3786"
             ],
             [
              0.5555555555555556,
              "#d8576b"
             ],
             [
              0.6666666666666666,
              "#ed7953"
             ],
             [
              0.7777777777777778,
              "#fb9f3a"
             ],
             [
              0.8888888888888888,
              "#fdca26"
             ],
             [
              1,
              "#f0f921"
             ]
            ],
            "type": "heatmap"
           }
          ],
          "heatmapgl": [
           {
            "colorbar": {
             "outlinewidth": 0,
             "ticks": ""
            },
            "colorscale": [
             [
              0,
              "#0d0887"
             ],
             [
              0.1111111111111111,
              "#46039f"
             ],
             [
              0.2222222222222222,
              "#7201a8"
             ],
             [
              0.3333333333333333,
              "#9c179e"
             ],
             [
              0.4444444444444444,
              "#bd3786"
             ],
             [
              0.5555555555555556,
              "#d8576b"
             ],
             [
              0.6666666666666666,
              "#ed7953"
             ],
             [
              0.7777777777777778,
              "#fb9f3a"
             ],
             [
              0.8888888888888888,
              "#fdca26"
             ],
             [
              1,
              "#f0f921"
             ]
            ],
            "type": "heatmapgl"
           }
          ],
          "histogram": [
           {
            "marker": {
             "pattern": {
              "fillmode": "overlay",
              "size": 10,
              "solidity": 0.2
             }
            },
            "type": "histogram"
           }
          ],
          "histogram2d": [
           {
            "colorbar": {
             "outlinewidth": 0,
             "ticks": ""
            },
            "colorscale": [
             [
              0,
              "#0d0887"
             ],
             [
              0.1111111111111111,
              "#46039f"
             ],
             [
              0.2222222222222222,
              "#7201a8"
             ],
             [
              0.3333333333333333,
              "#9c179e"
             ],
             [
              0.4444444444444444,
              "#bd3786"
             ],
             [
              0.5555555555555556,
              "#d8576b"
             ],
             [
              0.6666666666666666,
              "#ed7953"
             ],
             [
              0.7777777777777778,
              "#fb9f3a"
             ],
             [
              0.8888888888888888,
              "#fdca26"
             ],
             [
              1,
              "#f0f921"
             ]
            ],
            "type": "histogram2d"
           }
          ],
          "histogram2dcontour": [
           {
            "colorbar": {
             "outlinewidth": 0,
             "ticks": ""
            },
            "colorscale": [
             [
              0,
              "#0d0887"
             ],
             [
              0.1111111111111111,
              "#46039f"
             ],
             [
              0.2222222222222222,
              "#7201a8"
             ],
             [
              0.3333333333333333,
              "#9c179e"
             ],
             [
              0.4444444444444444,
              "#bd3786"
             ],
             [
              0.5555555555555556,
              "#d8576b"
             ],
             [
              0.6666666666666666,
              "#ed7953"
             ],
             [
              0.7777777777777778,
              "#fb9f3a"
             ],
             [
              0.8888888888888888,
              "#fdca26"
             ],
             [
              1,
              "#f0f921"
             ]
            ],
            "type": "histogram2dcontour"
           }
          ],
          "mesh3d": [
           {
            "colorbar": {
             "outlinewidth": 0,
             "ticks": ""
            },
            "type": "mesh3d"
           }
          ],
          "parcoords": [
           {
            "line": {
             "colorbar": {
              "outlinewidth": 0,
              "ticks": ""
             }
            },
            "type": "parcoords"
           }
          ],
          "pie": [
           {
            "automargin": true,
            "type": "pie"
           }
          ],
          "scatter": [
           {
            "fillpattern": {
             "fillmode": "overlay",
             "size": 10,
             "solidity": 0.2
            },
            "type": "scatter"
           }
          ],
          "scatter3d": [
           {
            "line": {
             "colorbar": {
              "outlinewidth": 0,
              "ticks": ""
             }
            },
            "marker": {
             "colorbar": {
              "outlinewidth": 0,
              "ticks": ""
             }
            },
            "type": "scatter3d"
           }
          ],
          "scattercarpet": [
           {
            "marker": {
             "colorbar": {
              "outlinewidth": 0,
              "ticks": ""
             }
            },
            "type": "scattercarpet"
           }
          ],
          "scattergeo": [
           {
            "marker": {
             "colorbar": {
              "outlinewidth": 0,
              "ticks": ""
             }
            },
            "type": "scattergeo"
           }
          ],
          "scattergl": [
           {
            "marker": {
             "colorbar": {
              "outlinewidth": 0,
              "ticks": ""
             }
            },
            "type": "scattergl"
           }
          ],
          "scattermapbox": [
           {
            "marker": {
             "colorbar": {
              "outlinewidth": 0,
              "ticks": ""
             }
            },
            "type": "scattermapbox"
           }
          ],
          "scatterpolar": [
           {
            "marker": {
             "colorbar": {
              "outlinewidth": 0,
              "ticks": ""
             }
            },
            "type": "scatterpolar"
           }
          ],
          "scatterpolargl": [
           {
            "marker": {
             "colorbar": {
              "outlinewidth": 0,
              "ticks": ""
             }
            },
            "type": "scatterpolargl"
           }
          ],
          "scatterternary": [
           {
            "marker": {
             "colorbar": {
              "outlinewidth": 0,
              "ticks": ""
             }
            },
            "type": "scatterternary"
           }
          ],
          "surface": [
           {
            "colorbar": {
             "outlinewidth": 0,
             "ticks": ""
            },
            "colorscale": [
             [
              0,
              "#0d0887"
             ],
             [
              0.1111111111111111,
              "#46039f"
             ],
             [
              0.2222222222222222,
              "#7201a8"
             ],
             [
              0.3333333333333333,
              "#9c179e"
             ],
             [
              0.4444444444444444,
              "#bd3786"
             ],
             [
              0.5555555555555556,
              "#d8576b"
             ],
             [
              0.6666666666666666,
              "#ed7953"
             ],
             [
              0.7777777777777778,
              "#fb9f3a"
             ],
             [
              0.8888888888888888,
              "#fdca26"
             ],
             [
              1,
              "#f0f921"
             ]
            ],
            "type": "surface"
           }
          ],
          "table": [
           {
            "cells": {
             "fill": {
              "color": "#EBF0F8"
             },
             "line": {
              "color": "white"
             }
            },
            "header": {
             "fill": {
              "color": "#C8D4E3"
             },
             "line": {
              "color": "white"
             }
            },
            "type": "table"
           }
          ]
         },
         "layout": {
          "annotationdefaults": {
           "arrowcolor": "#2a3f5f",
           "arrowhead": 0,
           "arrowwidth": 1
          },
          "autotypenumbers": "strict",
          "coloraxis": {
           "colorbar": {
            "outlinewidth": 0,
            "ticks": ""
           }
          },
          "colorscale": {
           "diverging": [
            [
             0,
             "#8e0152"
            ],
            [
             0.1,
             "#c51b7d"
            ],
            [
             0.2,
             "#de77ae"
            ],
            [
             0.3,
             "#f1b6da"
            ],
            [
             0.4,
             "#fde0ef"
            ],
            [
             0.5,
             "#f7f7f7"
            ],
            [
             0.6,
             "#e6f5d0"
            ],
            [
             0.7,
             "#b8e186"
            ],
            [
             0.8,
             "#7fbc41"
            ],
            [
             0.9,
             "#4d9221"
            ],
            [
             1,
             "#276419"
            ]
           ],
           "sequential": [
            [
             0,
             "#0d0887"
            ],
            [
             0.1111111111111111,
             "#46039f"
            ],
            [
             0.2222222222222222,
             "#7201a8"
            ],
            [
             0.3333333333333333,
             "#9c179e"
            ],
            [
             0.4444444444444444,
             "#bd3786"
            ],
            [
             0.5555555555555556,
             "#d8576b"
            ],
            [
             0.6666666666666666,
             "#ed7953"
            ],
            [
             0.7777777777777778,
             "#fb9f3a"
            ],
            [
             0.8888888888888888,
             "#fdca26"
            ],
            [
             1,
             "#f0f921"
            ]
           ],
           "sequentialminus": [
            [
             0,
             "#0d0887"
            ],
            [
             0.1111111111111111,
             "#46039f"
            ],
            [
             0.2222222222222222,
             "#7201a8"
            ],
            [
             0.3333333333333333,
             "#9c179e"
            ],
            [
             0.4444444444444444,
             "#bd3786"
            ],
            [
             0.5555555555555556,
             "#d8576b"
            ],
            [
             0.6666666666666666,
             "#ed7953"
            ],
            [
             0.7777777777777778,
             "#fb9f3a"
            ],
            [
             0.8888888888888888,
             "#fdca26"
            ],
            [
             1,
             "#f0f921"
            ]
           ]
          },
          "colorway": [
           "#636efa",
           "#EF553B",
           "#00cc96",
           "#ab63fa",
           "#FFA15A",
           "#19d3f3",
           "#FF6692",
           "#B6E880",
           "#FF97FF",
           "#FECB52"
          ],
          "font": {
           "color": "#2a3f5f"
          },
          "geo": {
           "bgcolor": "white",
           "lakecolor": "white",
           "landcolor": "#E5ECF6",
           "showlakes": true,
           "showland": true,
           "subunitcolor": "white"
          },
          "hoverlabel": {
           "align": "left"
          },
          "hovermode": "closest",
          "mapbox": {
           "style": "light"
          },
          "paper_bgcolor": "white",
          "plot_bgcolor": "#E5ECF6",
          "polar": {
           "angularaxis": {
            "gridcolor": "white",
            "linecolor": "white",
            "ticks": ""
           },
           "bgcolor": "#E5ECF6",
           "radialaxis": {
            "gridcolor": "white",
            "linecolor": "white",
            "ticks": ""
           }
          },
          "scene": {
           "xaxis": {
            "backgroundcolor": "#E5ECF6",
            "gridcolor": "white",
            "gridwidth": 2,
            "linecolor": "white",
            "showbackground": true,
            "ticks": "",
            "zerolinecolor": "white"
           },
           "yaxis": {
            "backgroundcolor": "#E5ECF6",
            "gridcolor": "white",
            "gridwidth": 2,
            "linecolor": "white",
            "showbackground": true,
            "ticks": "",
            "zerolinecolor": "white"
           },
           "zaxis": {
            "backgroundcolor": "#E5ECF6",
            "gridcolor": "white",
            "gridwidth": 2,
            "linecolor": "white",
            "showbackground": true,
            "ticks": "",
            "zerolinecolor": "white"
           }
          },
          "shapedefaults": {
           "line": {
            "color": "#2a3f5f"
           }
          },
          "ternary": {
           "aaxis": {
            "gridcolor": "white",
            "linecolor": "white",
            "ticks": ""
           },
           "baxis": {
            "gridcolor": "white",
            "linecolor": "white",
            "ticks": ""
           },
           "bgcolor": "#E5ECF6",
           "caxis": {
            "gridcolor": "white",
            "linecolor": "white",
            "ticks": ""
           }
          },
          "title": {
           "x": 0.05
          },
          "xaxis": {
           "automargin": true,
           "gridcolor": "white",
           "linecolor": "white",
           "ticks": "",
           "title": {
            "standoff": 15
           },
           "zerolinecolor": "white",
           "zerolinewidth": 2
          },
          "yaxis": {
           "automargin": true,
           "gridcolor": "white",
           "linecolor": "white",
           "ticks": "",
           "title": {
            "standoff": 15
           },
           "zerolinecolor": "white",
           "zerolinewidth": 2
          }
         }
        },
        "title": {
         "text": "Analisis Autokorelasi (ACF)"
        },
        "xaxis": {
         "title": {
          "text": "Lag (Bulan)"
         }
        },
        "yaxis": {
         "title": {
          "text": "Korelasi"
         }
        }
       }
      }
     },
     "metadata": {},
     "output_type": "display_data"
    }
   ],
   "source": [
    "# ==============================================================================\n",
    "# KODE VISUALISASI DENGAN INDENTASI YANG SUDAH DIPERBAIKI\n",
    "# ==============================================================================\n",
    "\n",
    "if df_final is not None and not df_final.empty:\n",
    "    print(\"\\n✅ Data siap untuk divisualisasikan. Memulai proses plotting...\")\n",
    "    print(\"--------------------------------------------------\\n\")\n",
    "    \n",
    "    # 3.1. Visualisasi Tren Kunjungan Bulanan\n",
    "    print(\"Membuat plot: 3.1. Visualisasi Tren Kunjungan Bulanan...\")\n",
    "    fig_line = px.line(df_final, x=df_final.index, y='jumlah_wisatawan', markers=True,\n",
    "                         title='Tren Total Kunjungan Wisatawan Bulanan (2022-2024)',\n",
    "                         labels={'index': 'Tanggal', 'jumlah_wisatawan': 'Jumlah Pengunjung'})\n",
    "    fig_line.show()\n",
    "\n",
    "    # 3.2. Analisis Musiman (Validasi Hipotesis 1)\n",
    "    print(\"Membuat plot: 3.2. Analisis Musiman...\")\n",
    "    df_monthly = df_final.copy()\n",
    "    df_monthly['bulan_nama'] = df_monthly.index.month_name()\n",
    "    fig_box = px.box(df_monthly, x='bulan_nama', y='jumlah_wisatawan',\n",
    "                       title='Analisis Musiman: Distribusi Kunjungan per Bulan',\n",
    "                       labels={'bulan_nama': 'Bulan', 'jumlah_wisatawan': 'Jumlah Pengunjung'},\n",
    "                       category_orders={\"bulan_nama\": [\"January\", \"February\", \"March\", \"April\", \"May\", \"June\", \"July\", \"August\", \"September\", \"October\", \"November\", \"December\"]})\n",
    "    fig_box.show()\n",
    "\n",
    "    # 3.3. Analisis Dependensi Temporal (Validasi Hipotesis 2)\n",
    "    print(\"Membuat plot: 3.3. Analisis Dependensi Temporal...\")\n",
    "    acf_values, confint = acf(df_final['jumlah_wisatawan'].dropna(), nlags=12, alpha=0.05)\n",
    "    lags = np.arange(len(acf_values))\n",
    "    fig_acf = go.Figure()\n",
    "    fig_acf.add_trace(go.Bar(x=lags, y=acf_values, name='Autocorrelation'))\n",
    "    \n",
    "    # Menambahkan confidence interval lines (metode standar)\n",
    "    ci = 1.96 / np.sqrt(len(df_final))\n",
    "    fig_acf.add_shape(type='line', x0=-0.5, y0=ci, x1=12.5, y1=ci, line=dict(color=\"rgba(0,0,0,0.3)\", dash=\"dash\"))\n",
    "    fig_acf.add_shape(type='line', x0=-0.5, y0=-ci, x1=12.5, y1=-ci, line=dict(color=\"rgba(0,0,0,0.3)\", dash=\"dash\"))\n",
    "    \n",
    "    fig_acf.update_layout(title='Analisis Autokorelasi (ACF)', xaxis_title='Lag (Bulan)', yaxis_title='Korelasi')\n",
    "    fig_acf.show()\n",
    "\n",
    "else:\n",
    "    print(\"\\n❌ Proses visualisasi dibatalkan karena pemuatan data gagal atau `df_total` tidak terdefinisi.\")"
   ]
  },
  {
   "cell_type": "markdown",
   "id": "d0e7dbdb",
   "metadata": {},
   "source": [
    "### **2.2. Analisis Pola Musiman (Seasonality)**"
   ]
  },
  {
   "cell_type": "markdown",
   "id": "966a808a",
   "metadata": {},
   "source": [
    "*Box plot* bulanan digunakan untuk memvalidasi **Hipotesis 1 (Musiman)**. Grafik ini menunjukkan distribusi jumlah wisatawan untuk setiap bulan. Dari plot ini, kita dapat secara visual mengkonfirmasi adanya *high season* (puncak kunjungan) yang cenderung terjadi pada pertengahan tahun (Juni-Juli, bertepatan dengan libur sekolah) dan akhir tahun (Desember), serta *low season* pada bulan-bulan lainnya."
   ]
  },
  {
   "cell_type": "code",
   "execution_count": 18,
   "id": "8087e3af",
   "metadata": {},
   "outputs": [
    {
     "name": "stdout",
     "output_type": "stream",
     "text": [
      "Plot analisis pola musiman disimpan sebagai 'analisis_pola_musiman.png'\n"
     ]
    },
    {
     "data": {
      "image/png": "[encoded data removed]",
      "text/plain": [
       "<Figure size 1200x700 with 1 Axes>"
      ]
     },
     "metadata": {},
     "output_type": "display_data"
    }
   ],
   "source": [
    "# 2.2. Analisis Pola Musiman (Seasonality)\n",
    "df_total_copy = df_final.copy()\n",
    "df_total_copy['bulan'] = df_total_copy.index.strftime('%B')\n",
    "df_total_copy['tahun'] = df_total_copy.index.year\n",
    "# Urutkan bulan dengan benar\n",
    "bulan_order = ['January', 'February', 'March', 'April', 'May', 'June', 'July', 'August', 'September', 'October', 'November', 'December']\n",
    "df_total_copy['bulan'] = pd.Categorical(df_total_copy['bulan'], categories=bulan_order, ordered=True)\n",
    "\n",
    "plt.figure(figsize=(12, 7))\n",
    "sns.boxplot(x='bulan', y='jumlah_wisatawan', data=df_total_copy)\n",
    "plt.title('Distribusi Kunjungan Wisatawan per Bulan', fontsize=16, pad=20)\n",
    "plt.xlabel('Bulan')\n",
    "plt.ylabel('Jumlah Wisatawan')\n",
    "plt.xticks(rotation=45)\n",
    "plt.tight_layout()\n",
    "plt.savefig(\"analisis_pola_musiman.png\")\n",
    "print(\"Plot analisis pola musiman disimpan sebagai 'analisis_pola_musiman.png'\")\n"
   ]
  },
  {
   "cell_type": "markdown",
   "id": "403a6a1b",
   "metadata": {},
   "source": [
    "### **2.3. Analisis Dependensi Temporal**"
   ]
  },
  {
   "cell_type": "markdown",
   "id": "47f9c6a9",
   "metadata": {},
   "source": [
    "Plot *Autocorrelation Function* (ACF) digunakan untuk menguji **Hipotesis 2 (Dependensi Temporal)**. Plot ini mengukur korelasi (hubungan) antara data suatu bulan dengan data dari bulan-bulan sebelumnya (disebut *lags*). Tingginya nilai korelasi pada beberapa *lag* pertama dan pada *lag* ke-12 mengindikasikan bahwa jumlah wisatawan bulan ini sangat dipengaruhi oleh data bulan lalu dan data dari bulan yang sama di tahun sebelumnya. Ini adalah justifikasi teknis untuk menggunakan fitur *lag* dalam model kita.\n",
    "\n",
    "---"
   ]
  },
  {
   "cell_type": "code",
   "execution_count": 19,
   "id": "9b95b92d",
   "metadata": {},
   "outputs": [
    {
     "name": "stdout",
     "output_type": "stream",
     "text": [
      "Membuat plot: 2.3. Analisis Dependensi Temporal...\n"
     ]
    },
    {
     "data": {
      "image/png": "[encoded data removed]",
      "text/plain": [
       "<Figure size 1200x500 with 1 Axes>"
      ]
     },
     "metadata": {},
     "output_type": "display_data"
    },
    {
     "name": "stdout",
     "output_type": "stream",
     "text": [
      "✅ Plot ACF berhasil dibuat dan disimpan sebagai 'analisis_acf.png'\n"
     ]
    }
   ],
   "source": [
    "if 'df_final' in locals() and not df_final.empty:\n",
    "    df_to_plot = df_final.copy() \n",
    "    \n",
    "    print(\"Membuat plot: 2.3. Analisis Dependensi Temporal...\")\n",
    "    fig, ax = plt.subplots(figsize=(12, 5))\n",
    "    plot_acf(df_to_plot['jumlah_wisatawan'].dropna(), ax=ax, lags=12, title='Autocorrelation (ACF) Kunjungan Wisatawan Bulanan')\n",
    "    plt.xlabel(\"Lag (Bulan)\")\n",
    "    plt.ylabel(\"Korelasi\")\n",
    "    plt.grid(True)\n",
    "    plt.savefig(\"analisis_acf.png\")\n",
    "    plt.show()\n",
    "    print(\"✅ Plot ACF berhasil dibuat dan disimpan sebagai 'analisis_acf.png'\")\n",
    "else:\n",
    "    print(\"\\n❌ Proses visualisasi ACF dibatalkan karena data (`df_final`) tidak berhasil dibuat di sel sebelumnya.\")"
   ]
  },
  {
   "cell_type": "markdown",
   "id": "7f3f3466",
   "metadata": {},
   "source": [
    "## **3. Rekayasa Fitur (Feature Engineering)**"
   ]
  },
  {
   "cell_type": "markdown",
   "id": "24482f25",
   "metadata": {},
   "source": [
    "Tahap ini adalah \"seni\" dalam *data science*, di mana kita menciptakan variabel-variabel baru (fitur) dari data yang ada untuk membantu model *machine learning* belajar dengan lebih baik. Tujuannya adalah mengubah data mentah menjadi sinyal-sinyal yang informatif dan prediktif.\n",
    "\n",
    "- **Fitur Waktu (Temporal Features):** Fitur sederhana seperti `bulan`, `kuartal`, dan `tahun` diekstrak dari indeks tanggal.\n",
    "- **Fitur Lag (Lag Features):** Fitur yang paling berpengaruh dalam peramalan deret waktu. `lag_1` (jumlah wisatawan bulan lalu) menangkap momentum, sementara `lag_12` (jumlah wisatawan pada bulan yang sama tahun lalu) adalah cara paling efektif untuk menyandikan pola musiman tahunan ke dalam model.\n",
    "- **Fitur Jendela Bergulir (Rolling Window Features):** Fitur seperti `rolling_mean_3` (rata-rata 3 bulan terakhir) membantu model memahami tren lokal jangka pendek.\n",
    "- **Fitur Kalender (Domain Knowledge):** Fitur biner seperti `is_libur_puncak` dibuat untuk secara eksplisit memberitahu model kapan periode puncak liburan terjadi. Ini adalah cara untuk memasukkan pengetahuan domain ke dalam model.\n",
    "\n",
    "---"
   ]
  },
  {
   "cell_type": "code",
   "execution_count": 21,
   "id": "2a18019e",
   "metadata": {},
   "outputs": [
    {
     "name": "stdout",
     "output_type": "stream",
     "text": [
      "Fitur berhasil dibuat (tanpa lag_12).\n"
     ]
    }
   ],
   "source": [
    "# ==============================================================================\n",
    "# 3. REKAYASA FITUR (FEATURE ENGINEERING)\n",
    "# ==============================================================================\n",
    "def create_features_revised(df):\n",
    "    \"\"\"Fungsi ini membuat fitur tanpa lag_12 dan menangani NaN dengan lebih baik.\"\"\"\n",
    "    df_feat = df.copy()\n",
    "    df_feat['bulan'] = df_feat.index.month\n",
    "    df_feat['kuartal'] = df_feat.index.quarter\n",
    "    df_feat['tahun'] = df_feat.index.year\n",
    "    df_feat['lag_1'] = df_feat['jumlah_wisatawan'].shift(1)\n",
    "    # Fitur lag_12 dihapus karena ini adalah penyebab utama data training menjadi kosong\n",
    "    df_feat['rolling_mean_3'] = df_feat['jumlah_wisatawan'].shift(1).rolling(window=3).mean()\n",
    "    libur_puncak = [6, 7, 12]\n",
    "    df_feat['is_libur_puncak'] = df_feat['bulan'].isin(libur_puncak).astype(int)\n",
    "    \n",
    "    # Mengganti .dropna() dengan .fillna(0) agar tidak kehilangan baris data\n",
    "    df_feat = df_feat.fillna(0)\n",
    "    return df_feat\n",
    "\n",
    "# Pastikan df_total sudah ada dari eksekusi sel sebelumnya\n",
    "if 'df_final' in locals() and not df_final.empty:\n",
    "    df_feat = create_features_revised(df_final)\n",
    "    print(\"Fitur berhasil dibuat (tanpa lag_12).\")\n",
    "else:\n",
    "    print(\"ERROR: Variabel 'df_total' tidak ditemukan atau kosong. Pastikan sel untuk Tahap 2 sudah dijalankan dengan benar.\")\n"
   ]
  },
  {
   "cell_type": "markdown",
   "id": "81be6753",
   "metadata": {},
   "source": [
    "## **4. Pemodelan Prediktif dengan XGBoost**\n",
    "\n",
    "Pada tahap ini, kita membangun model *machine learning* untuk melakukan peramalan."
   ]
  },
  {
   "cell_type": "markdown",
   "id": "70963185",
   "metadata": {},
   "source": [
    "### **4.1. Pemilihan Model**"
   ]
  },
  {
   "cell_type": "markdown",
   "id": "9cc365cb",
   "metadata": {},
   "source": [
    "Tiga model yang dipilih mewakili pendekatan yang berbeda:\n",
    "- **SARIMA**: Pendekatan statistik klasik.\n",
    "- **Prophet**: Pendekatan model aditif modern.\n",
    "- **XGBoost**: Pendekatan *machine learning* non-linear."
   ]
  },
  {
   "cell_type": "markdown",
   "id": "4e25d58b",
   "metadata": {},
   "source": [
    "### **4.2. Strategi Pemisahan Data**"
   ]
  },
  {
   "cell_type": "markdown",
   "id": "b5ea5a11",
   "metadata": {},
   "source": [
    "Karena adanya kekosongan data pada 2023, strategi pemisahan data standar (acak) tidak dapat digunakan. Pendekatan yang paling valid secara metodologis adalah:\n",
    "- **Data Latih (Training Set):** Menggunakan seluruh data dari **tahun 2022**.\n",
    "- **Data Uji (Test Set):** Menggunakan seluruh data dari **tahun 2024**.\n",
    "\n",
    "Strategi ini mensimulasikan skenario dunia nyata di mana kita menggunakan data masa lalu yang lengkap untuk memprediksi periode masa depan yang tidak terputus."
   ]
  },
  {
   "cell_type": "code",
   "execution_count": 22,
   "id": "e1b122e2",
   "metadata": {},
   "outputs": [
    {
     "name": "stdout",
     "output_type": "stream",
     "text": [
      "Ukuran Data Latih: 28 bulan\n",
      "Ukuran Data Uji: 8 bulan\n"
     ]
    }
   ],
   "source": [
    "if 'df_feat' in locals():\n",
    "    train_size = int(len(df_feat) * 0.8)\n",
    "    train_df, test_df = df_feat.iloc[:train_size], df_feat.iloc[train_size:]\n",
    "    print(f\"Ukuran Data Latih: {len(train_df)} bulan\")\n",
    "    print(f\"Ukuran Data Uji: {len(test_df)} bulan\")"
   ]
  },
  {
   "cell_type": "markdown",
   "id": "7ba4df24",
   "metadata": {},
   "source": [
    "### **4.3. Pelatihan Model**"
   ]
  },
  {
   "cell_type": "markdown",
   "id": "87c105cd",
   "metadata": {},
   "source": [
    "Model XGBoost dilatih pada set data latih (`X_train`, `y_train`). Proses ini juga menggunakan mekanisme *early stopping*, di mana model akan berhenti berlatih jika performanya pada data uji tidak membaik setelah beberapa iterasi. Ini adalah teknik regularisasi yang efektif untuk mencegah *overfitting*.\n",
    "\n",
    "---"
   ]
  },
  {
   "cell_type": "code",
   "execution_count": 23,
   "id": "e783addc",
   "metadata": {},
   "outputs": [
    {
     "name": "stderr",
     "output_type": "stream",
     "text": [
      "12:54:30 - cmdstanpy - INFO - Chain [1] start processing\n",
      "12:54:30 - cmdstanpy - INFO - Chain [1] done processing\n"
     ]
    },
    {
     "name": "stdout",
     "output_type": "stream",
     "text": [
      "Ketiga model berhasil dilatih pada data latih.\n"
     ]
    }
   ],
   "source": [
    "if 'train_df' in locals():\n",
    "    # Model 1: SARIMA\n",
    "    sarima_fit = SARIMAX(train_df['jumlah_wisatawan'], order=(1, 1, 1), seasonal_order=(1, 1, 1, 12)).fit(disp=False)\n",
    "    \n",
    "    # Model 2: Prophet\n",
    "    prophet_train_df = train_df.reset_index().rename(columns={'index': 'ds', 'jumlah_wisatawan': 'y'})\n",
    "    prophet_model = Prophet().fit(prophet_train_df)\n",
    "    \n",
    "    # Model 3: XGBoost\n",
    "    features = ['bulan', 'kuartal', 'tahun', 'lag_1', 'rolling_mean_3', 'is_libur_puncak']\n",
    "    xgb_model = xgb.XGBRegressor(n_estimators=100, learning_rate=0.05, max_depth=5).fit(train_df[features], train_df['jumlah_wisatawan'])\n",
    "    \n",
    "    print(\"Ketiga model berhasil dilatih pada data latih.\")"
   ]
  },
  {
   "cell_type": "markdown",
   "id": "ad4f7a7b",
   "metadata": {},
   "source": [
    "## **5. Evaluasi dan Validasi Model**"
   ]
  },
  {
   "cell_type": "markdown",
   "id": "075ad13b",
   "metadata": {},
   "source": [
    "Tahap ini bertujuan untuk mengukur performa model secara kuantitatif dan kualitatif pada data yang belum pernah dilihatnya (data uji tahun 2024)."
   ]
  },
  {
   "cell_type": "markdown",
   "id": "2fc599a5",
   "metadata": {},
   "source": [
    "### **5.1. Metrik Kuantitatif**"
   ]
  },
  {
   "cell_type": "markdown",
   "id": "04fd5498",
   "metadata": {},
   "source": [
    "Dua metrik utama digunakan:\n",
    "- **RMSE (Root Mean Squared Error):** Mengukur rata-rata besarnya kesalahan prediksi dalam satuan asli (jumlah wisatawan). Semakin kecil nilainya, semakin baik.\n",
    "- **MAPE (Mean Absolute Percentage Error):** Mengukur rata-rata kesalahan dalam bentuk persentase. Metrik ini sangat intuitif untuk pemangku kepentingan bisnis karena memberikan gambaran \"seberapa persen melesetnya\" prediksi model."
   ]
  },
  {
   "cell_type": "code",
   "execution_count": 25,
   "id": "a5094eaf",
   "metadata": {},
   "outputs": [
    {
     "name": "stdout",
     "output_type": "stream",
     "text": [
      "Tabel Perbandingan Metrik Kinerja pada Data Uji (Semakin Kecil Semakin Baik)\n",
      "        MAPE (%)     RMSE\n",
      "SARIMA     16.76  589,444\n",
      "Prophet    40.34  971,678\n",
      "XGBoost    20.69  486,860\n"
     ]
    }
   ],
   "source": [
    "if 'test_df' in locals():\n",
    "    predictions = pd.DataFrame(index=test_df.index)\n",
    "    \n",
    "    # Dapatkan prediksi dari setiap model\n",
    "    predictions['SARIMA'] = sarima_fit.forecast(len(test_df))\n",
    "    future_prophet = prophet_model.make_future_dataframe(periods=len(test_df), freq='MS')\n",
    "    prophet_pred = prophet_model.predict(future_prophet)\n",
    "    predictions['Prophet'] = prophet_pred['yhat'].values[-len(test_df):]\n",
    "    predictions['XGBoost'] = xgb_model.predict(test_df[features])\n",
    "    \n",
    "    # Hitung metrik\n",
    "    metrics = {}\n",
    "    for col in predictions.columns:\n",
    "        mape = mean_absolute_percentage_error(test_df['jumlah_wisatawan'], predictions[col])\n",
    "        rmse = np.sqrt(mean_squared_error(test_df['jumlah_wisatawan'], predictions[col]))\n",
    "        metrics[col] = {'MAPE (%)': f\"{mape*100:.2f}\", 'RMSE': f\"{rmse:,.0f}\"}\n",
    "    \n",
    "    metrics_df = pd.DataFrame(metrics).T\n",
    "    print(\"Tabel Perbandingan Metrik Kinerja pada Data Uji (Semakin Kecil Semakin Baik)\")\n",
    "    print(metrics_df)"
   ]
  },
  {
   "cell_type": "markdown",
   "id": "472df4be",
   "metadata": {},
   "source": [
    "### **5.2. Validasi Visual**"
   ]
  },
  {
   "cell_type": "markdown",
   "id": "94f0a25d",
   "metadata": {},
   "source": [
    "Plot perbandingan antara nilai **aktual** dari data uji dengan nilai **prediksi** dari model dibuat. Visualisasi ini adalah \"tes akhir\" untuk melihat apakah model mampu menangkap pola, tren, dan puncak musiman dengan baik. Kesesuaian antara kedua garis menunjukkan performa model yang baik."
   ]
  },
  {
   "cell_type": "code",
   "execution_count": 26,
   "id": "a238c093",
   "metadata": {},
   "outputs": [
    {
     "data": {
      "application/vnd.plotly.v1+json": {
       "config": {
        "plotlyServerURL": "https://plot.ly"
       },
       "data": [
        {
         "line": {
          "color": "gray"
         },
         "mode": "lines",
         "name": "Data Latih",
         "type": "scatter",
         "x": [
          "2022-01-01T00:00:00",
          "2022-02-01T00:00:00",
          "2022-03-01T00:00:00",
          "2022-04-01T00:00:00",
          "2022-05-01T00:00:00",
          "2022-06-01T00:00:00",
          "2022-07-01T00:00:00",
          "2022-08-01T00:00:00",
          "2022-09-01T00:00:00",
          "2022-10-01T00:00:00",
          "2022-11-01T00:00:00",
          "2022-12-01T00:00:00",
          "2023-01-01T00:00:00",
          "2023-02-01T00:00:00",
          "2023-03-01T00:00:00",
          "2023-04-01T00:00:00",
          "2023-05-01T00:00:00",
          "2023-06-01T00:00:00",
          "2023-07-01T00:00:00",
          "2023-08-01T00:00:00",
          "2023-09-01T00:00:00",
          "2023-10-01T00:00:00",
          "2023-11-01T00:00:00",
          "2023-12-01T00:00:00",
          "2024-01-01T00:00:00",
          "2024-02-01T00:00:00",
          "2024-03-01T00:00:00",
          "2024-04-01T00:00:00"
         ],
         "y": [
          1607143,
          1231924,
          1461713,
          528238,
          2906199,
          2601280,
          2453001,
          1370061,
          1531850,
          1612253,
          1096317,
          2447519,
          2353100,
          1889443,
          1549358,
          1759122,
          2844083,
          2883654,
          2660286,
          1508556,
          1593221,
          1883482,
          1864244,
          3665705,
          2067160,
          2001249,
          1039815,
          1783052
         ]
        },
        {
         "line": {
          "color": "blue",
          "width": 3
         },
         "mode": "lines+markers",
         "name": "Data Uji (Aktual)",
         "type": "scatter",
         "x": [
          "2024-05-01T00:00:00",
          "2024-06-01T00:00:00",
          "2024-07-01T00:00:00",
          "2024-08-01T00:00:00",
          "2024-09-01T00:00:00",
          "2024-10-01T00:00:00",
          "2024-11-01T00:00:00",
          "2024-12-01T00:00:00"
         ],
         "y": [
          2514731,
          2161075,
          1945741,
          1130841,
          2735576,
          1871233,
          1752325,
          3374936
         ]
        },
        {
         "line": {
          "dash": "dash"
         },
         "mode": "lines",
         "name": "Prediksi SARIMA",
         "type": "scatter",
         "x": [
          "2024-05-01T00:00:00",
          "2024-06-01T00:00:00",
          "2024-07-01T00:00:00",
          "2024-08-01T00:00:00",
          "2024-09-01T00:00:00",
          "2024-10-01T00:00:00",
          "2024-11-01T00:00:00",
          "2024-12-01T00:00:00"
         ],
         "y": [
          2257322.4527021623,
          2585172.2735038283,
          2170675.9957659934,
          1282954.8915379462,
          1193979.1018301158,
          1629798.7973031132,
          1601657.57339754,
          3421756.111293745
         ]
        },
        {
         "line": {
          "dash": "dash"
         },
         "mode": "lines",
         "name": "Prediksi Prophet",
         "type": "scatter",
         "x": [
          "2024-05-01T00:00:00",
          "2024-06-01T00:00:00",
          "2024-07-01T00:00:00",
          "2024-08-01T00:00:00",
          "2024-09-01T00:00:00",
          "2024-10-01T00:00:00",
          "2024-11-01T00:00:00",
          "2024-12-01T00:00:00"
         ],
         "y": [
          4499927.303031839,
          3061970.575444162,
          2836469.964501896,
          1988666.240446616,
          2613092.7602764172,
          2805768.079253274,
          1895649.0672812934,
          2772864.308600432
         ]
        },
        {
         "line": {
          "dash": "dash"
         },
         "mode": "lines",
         "name": "Prediksi XGBoost",
         "type": "scatter",
         "x": [
          "2024-05-01T00:00:00",
          "2024-06-01T00:00:00",
          "2024-07-01T00:00:00",
          "2024-08-01T00:00:00",
          "2024-09-01T00:00:00",
          "2024-10-01T00:00:00",
          "2024-11-01T00:00:00",
          "2024-12-01T00:00:00"
         ],
         "y": [
          2362899,
          2870384.25,
          2812354.5,
          1698221,
          2217393.5,
          1790219.5,
          1843808.25,
          3492014.5
         ]
        }
       ],
       "layout": {
        "template": {
         "data": {
          "bar": [
           {
            "error_x": {
             "color": "#2a3f5f"
            },
            "error_y": {
             "color": "#2a3f5f"
            },
            "marker": {
             "line": {
              "color": "#E5ECF6",
              "width": 0.5
             },
             "pattern": {
              "fillmode": "overlay",
              "size": 10,
              "solidity": 0.2
             }
            },
            "type": "bar"
           }
          ],
          "barpolar": [
           {
            "marker": {
             "line": {
              "color": "#E5ECF6",
              "width": 0.5
             },
             "pattern": {
              "fillmode": "overlay",
              "size": 10,
              "solidity": 0.2
             }
            },
            "type": "barpolar"
           }
          ],
          "carpet": [
           {
            "aaxis": {
             "endlinecolor": "#2a3f5f",
             "gridcolor": "white",
             "linecolor": "white",
             "minorgridcolor": "white",
             "startlinecolor": "#2a3f5f"
            },
            "baxis": {
             "endlinecolor": "#2a3f5f",
             "gridcolor": "white",
             "linecolor": "white",
             "minorgridcolor": "white",
             "startlinecolor": "#2a3f5f"
            },
            "type": "carpet"
           }
          ],
          "choropleth": [
           {
            "colorbar": {
             "outlinewidth": 0,
             "ticks": ""
            },
            "type": "choropleth"
           }
          ],
          "contour": [
           {
            "colorbar": {
             "outlinewidth": 0,
             "ticks": ""
            },
            "colorscale": [
             [
              0,
              "#0d0887"
             ],
             [
              0.1111111111111111,
              "#46039f"
             ],
             [
              0.2222222222222222,
              "#7201a8"
             ],
             [
              0.3333333333333333,
              "#9c179e"
             ],
             [
              0.4444444444444444,
              "#bd3786"
             ],
             [
              0.5555555555555556,
              "#d8576b"
             ],
             [
              0.6666666666666666,
              "#ed7953"
             ],
             [
              0.7777777777777778,
              "#fb9f3a"
             ],
             [
              0.8888888888888888,
              "#fdca26"
             ],
             [
              1,
              "#f0f921"
             ]
            ],
            "type": "contour"
           }
          ],
          "contourcarpet": [
           {
            "colorbar": {
             "outlinewidth": 0,
             "ticks": ""
            },
            "type": "contourcarpet"
           }
          ],
          "heatmap": [
           {
            "colorbar": {
             "outlinewidth": 0,
             "ticks": ""
            },
            "colorscale": [
             [
              0,
              "#0d0887"
             ],
             [
              0.1111111111111111,
              "#46039f"
             ],
             [
              0.2222222222222222,
              "#7201a8"
             ],
             [
              0.3333333333333333,
              "#9c179e"
             ],
             [
              0.4444444444444444,
              "#bd3786"
             ],
             [
              0.5555555555555556,
              "#d8576b"
             ],
             [
              0.6666666666666666,
              "#ed7953"
             ],
             [
              0.7777777777777778,
              "#fb9f3a"
             ],
             [
              0.8888888888888888,
              "#fdca26"
             ],
             [
              1,
              "#f0f921"
             ]
            ],
            "type": "heatmap"
           }
          ],
          "heatmapgl": [
           {
            "colorbar": {
             "outlinewidth": 0,
             "ticks": ""
            },
            "colorscale": [
             [
              0,
              "#0d0887"
             ],
             [
              0.1111111111111111,
              "#46039f"
             ],
             [
              0.2222222222222222,
              "#7201a8"
             ],
             [
              0.3333333333333333,
              "#9c179e"
             ],
             [
              0.4444444444444444,
              "#bd3786"
             ],
             [
              0.5555555555555556,
              "#d8576b"
             ],
             [
              0.6666666666666666,
              "#ed7953"
             ],
             [
              0.7777777777777778,
              "#fb9f3a"
             ],
             [
              0.8888888888888888,
              "#fdca26"
             ],
             [
              1,
              "#f0f921"
             ]
            ],
            "type": "heatmapgl"
           }
          ],
          "histogram": [
           {
            "marker": {
             "pattern": {
              "fillmode": "overlay",
              "size": 10,
              "solidity": 0.2
             }
            },
            "type": "histogram"
           }
          ],
          "histogram2d": [
           {
            "colorbar": {
             "outlinewidth": 0,
             "ticks": ""
            },
            "colorscale": [
             [
              0,
              "#0d0887"
             ],
             [
              0.1111111111111111,
              "#46039f"
             ],
             [
              0.2222222222222222,
              "#7201a8"
             ],
             [
              0.3333333333333333,
              "#9c179e"
             ],
             [
              0.4444444444444444,
              "#bd3786"
             ],
             [
              0.5555555555555556,
              "#d8576b"
             ],
             [
              0.6666666666666666,
              "#ed7953"
             ],
             [
              0.7777777777777778,
              "#fb9f3a"
             ],
             [
              0.8888888888888888,
              "#fdca26"
             ],
             [
              1,
              "#f0f921"
             ]
            ],
            "type": "histogram2d"
           }
          ],
          "histogram2dcontour": [
           {
            "colorbar": {
             "outlinewidth": 0,
             "ticks": ""
            },
            "colorscale": [
             [
              0,
              "#0d0887"
             ],
             [
              0.1111111111111111,
              "#46039f"
             ],
             [
              0.2222222222222222,
              "#7201a8"
             ],
             [
              0.3333333333333333,
              "#9c179e"
             ],
             [
              0.4444444444444444,
              "#bd3786"
             ],
             [
              0.5555555555555556,
              "#d8576b"
             ],
             [
              0.6666666666666666,
              "#ed7953"
             ],
             [
              0.7777777777777778,
              "#fb9f3a"
             ],
             [
              0.8888888888888888,
              "#fdca26"
             ],
             [
              1,
              "#f0f921"
             ]
            ],
            "type": "histogram2dcontour"
           }
          ],
          "mesh3d": [
           {
            "colorbar": {
             "outlinewidth": 0,
             "ticks": ""
            },
            "type": "mesh3d"
           }
          ],
          "parcoords": [
           {
            "line": {
             "colorbar": {
              "outlinewidth": 0,
              "ticks": ""
             }
            },
            "type": "parcoords"
           }
          ],
          "pie": [
           {
            "automargin": true,
            "type": "pie"
           }
          ],
          "scatter": [
           {
            "fillpattern": {
             "fillmode": "overlay",
             "size": 10,
             "solidity": 0.2
            },
            "type": "scatter"
           }
          ],
          "scatter3d": [
           {
            "line": {
             "colorbar": {
              "outlinewidth": 0,
              "ticks": ""
             }
            },
            "marker": {
             "colorbar": {
              "outlinewidth": 0,
              "ticks": ""
             }
            },
            "type": "scatter3d"
           }
          ],
          "scattercarpet": [
           {
            "marker": {
             "colorbar": {
              "outlinewidth": 0,
              "ticks": ""
             }
            },
            "type": "scattercarpet"
           }
          ],
          "scattergeo": [
           {
            "marker": {
             "colorbar": {
              "outlinewidth": 0,
              "ticks": ""
             }
            },
            "type": "scattergeo"
           }
          ],
          "scattergl": [
           {
            "marker": {
             "colorbar": {
              "outlinewidth": 0,
              "ticks": ""
             }
            },
            "type": "scattergl"
           }
          ],
          "scattermapbox": [
           {
            "marker": {
             "colorbar": {
              "outlinewidth": 0,
              "ticks": ""
             }
            },
            "type": "scattermapbox"
           }
          ],
          "scatterpolar": [
           {
            "marker": {
             "colorbar": {
              "outlinewidth": 0,
              "ticks": ""
             }
            },
            "type": "scatterpolar"
           }
          ],
          "scatterpolargl": [
           {
            "marker": {
             "colorbar": {
              "outlinewidth": 0,
              "ticks": ""
             }
            },
            "type": "scatterpolargl"
           }
          ],
          "scatterternary": [
           {
            "marker": {
             "colorbar": {
              "outlinewidth": 0,
              "ticks": ""
             }
            },
            "type": "scatterternary"
           }
          ],
          "surface": [
           {
            "colorbar": {
             "outlinewidth": 0,
             "ticks": ""
            },
            "colorscale": [
             [
              0,
              "#0d0887"
             ],
             [
              0.1111111111111111,
              "#46039f"
             ],
             [
              0.2222222222222222,
              "#7201a8"
             ],
             [
              0.3333333333333333,
              "#9c179e"
             ],
             [
              0.4444444444444444,
              "#bd3786"
             ],
             [
              0.5555555555555556,
              "#d8576b"
             ],
             [
              0.6666666666666666,
              "#ed7953"
             ],
             [
              0.7777777777777778,
              "#fb9f3a"
             ],
             [
              0.8888888888888888,
              "#fdca26"
             ],
             [
              1,
              "#f0f921"
             ]
            ],
            "type": "surface"
           }
          ],
          "table": [
           {
            "cells": {
             "fill": {
              "color": "#EBF0F8"
             },
             "line": {
              "color": "white"
             }
            },
            "header": {
             "fill": {
              "color": "#C8D4E3"
             },
             "line": {
              "color": "white"
             }
            },
            "type": "table"
           }
          ]
         },
         "layout": {
          "annotationdefaults": {
           "arrowcolor": "#2a3f5f",
           "arrowhead": 0,
           "arrowwidth": 1
          },
          "autotypenumbers": "strict",
          "coloraxis": {
           "colorbar": {
            "outlinewidth": 0,
            "ticks": ""
           }
          },
          "colorscale": {
           "diverging": [
            [
             0,
             "#8e0152"
            ],
            [
             0.1,
             "#c51b7d"
            ],
            [
             0.2,
             "#de77ae"
            ],
            [
             0.3,
             "#f1b6da"
            ],
            [
             0.4,
             "#fde0ef"
            ],
            [
             0.5,
             "#f7f7f7"
            ],
            [
             0.6,
             "#e6f5d0"
            ],
            [
             0.7,
             "#b8e186"
            ],
            [
             0.8,
             "#7fbc41"
            ],
            [
             0.9,
             "#4d9221"
            ],
            [
             1,
             "#276419"
            ]
           ],
           "sequential": [
            [
             0,
             "#0d0887"
            ],
            [
             0.1111111111111111,
             "#46039f"
            ],
            [
             0.2222222222222222,
             "#7201a8"
            ],
            [
             0.3333333333333333,
             "#9c179e"
            ],
            [
             0.4444444444444444,
             "#bd3786"
            ],
            [
             0.5555555555555556,
             "#d8576b"
            ],
            [
             0.6666666666666666,
             "#ed7953"
            ],
            [
             0.7777777777777778,
             "#fb9f3a"
            ],
            [
             0.8888888888888888,
             "#fdca26"
            ],
            [
             1,
             "#f0f921"
            ]
           ],
           "sequentialminus": [
            [
             0,
             "#0d0887"
            ],
            [
             0.1111111111111111,
             "#46039f"
            ],
            [
             0.2222222222222222,
             "#7201a8"
            ],
            [
             0.3333333333333333,
             "#9c179e"
            ],
            [
             0.4444444444444444,
             "#bd3786"
            ],
            [
             0.5555555555555556,
             "#d8576b"
            ],
            [
             0.6666666666666666,
             "#ed7953"
            ],
            [
             0.7777777777777778,
             "#fb9f3a"
            ],
            [
             0.8888888888888888,
             "#fdca26"
            ],
            [
             1,
             "#f0f921"
            ]
           ]
          },
          "colorway": [
           "#636efa",
           "#EF553B",
           "#00cc96",
           "#ab63fa",
           "#FFA15A",
           "#19d3f3",
           "#FF6692",
           "#B6E880",
           "#FF97FF",
           "#FECB52"
          ],
          "font": {
           "color": "#2a3f5f"
          },
          "geo": {
           "bgcolor": "white",
           "lakecolor": "white",
           "landcolor": "#E5ECF6",
           "showlakes": true,
           "showland": true,
           "subunitcolor": "white"
          },
          "hoverlabel": {
           "align": "left"
          },
          "hovermode": "closest",
          "mapbox": {
           "style": "light"
          },
          "paper_bgcolor": "white",
          "plot_bgcolor": "#E5ECF6",
          "polar": {
           "angularaxis": {
            "gridcolor": "white",
            "linecolor": "white",
            "ticks": ""
           },
           "bgcolor": "#E5ECF6",
           "radialaxis": {
            "gridcolor": "white",
            "linecolor": "white",
            "ticks": ""
           }
          },
          "scene": {
           "xaxis": {
            "backgroundcolor": "#E5ECF6",
            "gridcolor": "white",
            "gridwidth": 2,
            "linecolor": "white",
            "showbackground": true,
            "ticks": "",
            "zerolinecolor": "white"
           },
           "yaxis": {
            "backgroundcolor": "#E5ECF6",
            "gridcolor": "white",
            "gridwidth": 2,
            "linecolor": "white",
            "showbackground": true,
            "ticks": "",
            "zerolinecolor": "white"
           },
           "zaxis": {
            "backgroundcolor": "#E5ECF6",
            "gridcolor": "white",
            "gridwidth": 2,
            "linecolor": "white",
            "showbackground": true,
            "ticks": "",
            "zerolinecolor": "white"
           }
          },
          "shapedefaults": {
           "line": {
            "color": "#2a3f5f"
           }
          },
          "ternary": {
           "aaxis": {
            "gridcolor": "white",
            "linecolor": "white",
            "ticks": ""
           },
           "baxis": {
            "gridcolor": "white",
            "linecolor": "white",
            "ticks": ""
           },
           "bgcolor": "#E5ECF6",
           "caxis": {
            "gridcolor": "white",
            "linecolor": "white",
            "ticks": ""
           }
          },
          "title": {
           "x": 0.05
          },
          "xaxis": {
           "automargin": true,
           "gridcolor": "white",
           "linecolor": "white",
           "ticks": "",
           "title": {
            "standoff": 15
           },
           "zerolinecolor": "white",
           "zerolinewidth": 2
          },
          "yaxis": {
           "automargin": true,
           "gridcolor": "white",
           "linecolor": "white",
           "ticks": "",
           "title": {
            "standoff": 15
           },
           "zerolinecolor": "white",
           "zerolinewidth": 2
          }
         }
        },
        "title": {
         "text": "Validasi Visual: Prediksi Model vs Data Uji Aktual"
        },
        "xaxis": {
         "title": {
          "text": "Tanggal"
         }
        },
        "yaxis": {
         "title": {
          "text": "Jumlah Wisatawan"
         }
        }
       }
      }
     },
     "metadata": {},
     "output_type": "display_data"
    }
   ],
   "source": [
    "if 'predictions' in locals():\n",
    "    fig_eval = go.Figure()\n",
    "    fig_eval.add_trace(go.Scatter(x=train_df.index, y=train_df['jumlah_wisatawan'], name='Data Latih', mode='lines', line=dict(color='gray')))\n",
    "    fig_eval.add_trace(go.Scatter(x=test_df.index, y=test_df['jumlah_wisatawan'], name='Data Uji (Aktual)', mode='lines+markers', line=dict(color='blue', width=3)))\n",
    "    for col in predictions.columns:\n",
    "        fig_eval.add_trace(go.Scatter(x=predictions.index, y=predictions[col], name=f'Prediksi {col}', mode='lines', line=dict(dash='dash')))\n",
    "    fig_eval.update_layout(title='Validasi Visual: Prediksi Model vs Data Uji Aktual', xaxis_title='Tanggal', yaxis_title='Jumlah Wisatawan')\n",
    "    fig_eval.show()"
   ]
  },
  {
   "cell_type": "markdown",
   "id": "56ec6614",
   "metadata": {},
   "source": [
    "## **6. Interpretasi Model dan Wawasan Bisnis**"
   ]
  },
  {
   "cell_type": "markdown",
   "id": "e5f9fe94",
   "metadata": {},
   "source": [
    "Ini adalah tahap akhir di mana kita menerjemahkan hasil teknis menjadi wawasan yang dapat ditindaklanjuti. Tujuannya bukan hanya mengetahui *apa* yang akan terjadi, tetapi juga **mengapa** itu terjadi."
   ]
  },
  {
   "cell_type": "markdown",
   "id": "849a24fa",
   "metadata": {},
   "source": [
    "### **6.1. Analisis Faktor Pendorong (Feature Importance)**"
   ]
  },
  {
   "cell_type": "markdown",
   "id": "5db4b5e6",
   "metadata": {},
   "source": [
    "Model XGBoost menyediakan fitur *Feature Importance* yang memberi peringkat pada semua fitur berdasarkan kontribusinya terhadap akurasi prediksi. Dengan menganalisis fitur-fitur teratas (misalnya, `lag_12`, `bulan`, `is_libur_puncak`), kita dapat secara objektif mengidentifikasi faktor-faktor pendorong utama kunjungan wisata di Kota Batu. Hasil ini mengkonfirmasi hipotesis awal kita dengan bukti kuantitatif."
   ]
  },
  {
   "cell_type": "code",
   "execution_count": 28,
   "id": "8e19f3df",
   "metadata": {},
   "outputs": [
    {
     "name": "stdout",
     "output_type": "stream",
     "text": [
      "\n",
      "Tahap 6: Mengevaluasi dan Menginterpretasi Multi-Model...\n",
      "\n",
      "--- 6.1 Metrik Kuantitatif (MAPE & RMSE) ---\n",
      "Tabel Perbandingan Kinerja pada Data Uji (Semakin Kecil Semakin Baik)\n"
     ]
    },
    {
     "data": {
      "text/html": [
       "<div>\n",
       "<style scoped>\n",
       "    .dataframe tbody tr th:only-of-type {\n",
       "        vertical-align: middle;\n",
       "    }\n",
       "\n",
       "    .dataframe tbody tr th {\n",
       "        vertical-align: top;\n",
       "    }\n",
       "\n",
       "    .dataframe thead th {\n",
       "        text-align: right;\n",
       "    }\n",
       "</style>\n",
       "<table border=\"1\" class=\"dataframe\">\n",
       "  <thead>\n",
       "    <tr style=\"text-align: right;\">\n",
       "      <th></th>\n",
       "      <th>MAPE (%)</th>\n",
       "      <th>RMSE</th>\n",
       "    </tr>\n",
       "  </thead>\n",
       "  <tbody>\n",
       "    <tr>\n",
       "      <th>SARIMA</th>\n",
       "      <td>16.76</td>\n",
       "      <td>589,444</td>\n",
       "    </tr>\n",
       "    <tr>\n",
       "      <th>Prophet</th>\n",
       "      <td>40.34</td>\n",
       "      <td>971,678</td>\n",
       "    </tr>\n",
       "    <tr>\n",
       "      <th>XGBoost</th>\n",
       "      <td>20.69</td>\n",
       "      <td>486,860</td>\n",
       "    </tr>\n",
       "  </tbody>\n",
       "</table>\n",
       "</div>"
      ],
      "text/plain": [
       "        MAPE (%)     RMSE\n",
       "SARIMA     16.76  589,444\n",
       "Prophet    40.34  971,678\n",
       "XGBoost    20.69  486,860"
      ]
     },
     "metadata": {},
     "output_type": "display_data"
    },
    {
     "name": "stdout",
     "output_type": "stream",
     "text": [
      "\n",
      "--- 6.2 Validasi Visual ---\n"
     ]
    },
    {
     "data": {
      "application/vnd.plotly.v1+json": {
       "config": {
        "plotlyServerURL": "https://plot.ly"
       },
       "data": [
        {
         "line": {
          "color": "gray"
         },
         "mode": "lines",
         "name": "Data Latih",
         "type": "scatter",
         "x": [
          "2022-01-01T00:00:00",
          "2022-02-01T00:00:00",
          "2022-03-01T00:00:00",
          "2022-04-01T00:00:00",
          "2022-05-01T00:00:00",
          "2022-06-01T00:00:00",
          "2022-07-01T00:00:00",
          "2022-08-01T00:00:00",
          "2022-09-01T00:00:00",
          "2022-10-01T00:00:00",
          "2022-11-01T00:00:00",
          "2022-12-01T00:00:00",
          "2023-01-01T00:00:00",
          "2023-02-01T00:00:00",
          "2023-03-01T00:00:00",
          "2023-04-01T00:00:00",
          "2023-05-01T00:00:00",
          "2023-06-01T00:00:00",
          "2023-07-01T00:00:00",
          "2023-08-01T00:00:00",
          "2023-09-01T00:00:00",
          "2023-10-01T00:00:00",
          "2023-11-01T00:00:00",
          "2023-12-01T00:00:00",
          "2024-01-01T00:00:00",
          "2024-02-01T00:00:00",
          "2024-03-01T00:00:00",
          "2024-04-01T00:00:00"
         ],
         "y": [
          1607143,
          1231924,
          1461713,
          528238,
          2906199,
          2601280,
          2453001,
          1370061,
          1531850,
          1612253,
          1096317,
          2447519,
          2353100,
          1889443,
          1549358,
          1759122,
          2844083,
          2883654,
          2660286,
          1508556,
          1593221,
          1883482,
          1864244,
          3665705,
          2067160,
          2001249,
          1039815,
          1783052
         ]
        },
        {
         "line": {
          "color": "blue",
          "width": 3
         },
         "mode": "lines+markers",
         "name": "Data Uji (Aktual)",
         "type": "scatter",
         "x": [
          "2024-05-01T00:00:00",
          "2024-06-01T00:00:00",
          "2024-07-01T00:00:00",
          "2024-08-01T00:00:00",
          "2024-09-01T00:00:00",
          "2024-10-01T00:00:00",
          "2024-11-01T00:00:00",
          "2024-12-01T00:00:00"
         ],
         "y": [
          2514731,
          2161075,
          1945741,
          1130841,
          2735576,
          1871233,
          1752325,
          3374936
         ]
        },
        {
         "line": {
          "dash": "dash"
         },
         "mode": "lines",
         "name": "Prediksi SARIMA",
         "type": "scatter",
         "x": [
          "2024-05-01T00:00:00",
          "2024-06-01T00:00:00",
          "2024-07-01T00:00:00",
          "2024-08-01T00:00:00",
          "2024-09-01T00:00:00",
          "2024-10-01T00:00:00",
          "2024-11-01T00:00:00",
          "2024-12-01T00:00:00"
         ],
         "y": [
          2257322.4527021623,
          2585172.2735038283,
          2170675.9957659934,
          1282954.8915379462,
          1193979.1018301158,
          1629798.7973031132,
          1601657.57339754,
          3421756.111293745
         ]
        },
        {
         "line": {
          "dash": "dash"
         },
         "mode": "lines",
         "name": "Prediksi Prophet",
         "type": "scatter",
         "x": [
          "2024-05-01T00:00:00",
          "2024-06-01T00:00:00",
          "2024-07-01T00:00:00",
          "2024-08-01T00:00:00",
          "2024-09-01T00:00:00",
          "2024-10-01T00:00:00",
          "2024-11-01T00:00:00",
          "2024-12-01T00:00:00"
         ],
         "y": [
          4499927.303031839,
          3061970.575444162,
          2836469.964501896,
          1988666.240446616,
          2613092.7602764172,
          2805768.079253274,
          1895649.0672812934,
          2772864.308600432
         ]
        },
        {
         "line": {
          "dash": "dash"
         },
         "mode": "lines",
         "name": "Prediksi XGBoost",
         "type": "scatter",
         "x": [
          "2024-05-01T00:00:00",
          "2024-06-01T00:00:00",
          "2024-07-01T00:00:00",
          "2024-08-01T00:00:00",
          "2024-09-01T00:00:00",
          "2024-10-01T00:00:00",
          "2024-11-01T00:00:00",
          "2024-12-01T00:00:00"
         ],
         "y": [
          2362899,
          2870384.25,
          2812354.5,
          1698221,
          2217393.5,
          1790219.5,
          1843808.25,
          3492014.5
         ]
        }
       ],
       "layout": {
        "template": {
         "data": {
          "bar": [
           {
            "error_x": {
             "color": "#2a3f5f"
            },
            "error_y": {
             "color": "#2a3f5f"
            },
            "marker": {
             "line": {
              "color": "#E5ECF6",
              "width": 0.5
             },
             "pattern": {
              "fillmode": "overlay",
              "size": 10,
              "solidity": 0.2
             }
            },
            "type": "bar"
           }
          ],
          "barpolar": [
           {
            "marker": {
             "line": {
              "color": "#E5ECF6",
              "width": 0.5
             },
             "pattern": {
              "fillmode": "overlay",
              "size": 10,
              "solidity": 0.2
             }
            },
            "type": "barpolar"
           }
          ],
          "carpet": [
           {
            "aaxis": {
             "endlinecolor": "#2a3f5f",
             "gridcolor": "white",
             "linecolor": "white",
             "minorgridcolor": "white",
             "startlinecolor": "#2a3f5f"
            },
            "baxis": {
             "endlinecolor": "#2a3f5f",
             "gridcolor": "white",
             "linecolor": "white",
             "minorgridcolor": "white",
             "startlinecolor": "#2a3f5f"
            },
            "type": "carpet"
           }
          ],
          "choropleth": [
           {
            "colorbar": {
             "outlinewidth": 0,
             "ticks": ""
            },
            "type": "choropleth"
           }
          ],
          "contour": [
           {
            "colorbar": {
             "outlinewidth": 0,
             "ticks": ""
            },
            "colorscale": [
             [
              0,
              "#0d0887"
             ],
             [
              0.1111111111111111,
              "#46039f"
             ],
             [
              0.2222222222222222,
              "#7201a8"
             ],
             [
              0.3333333333333333,
              "#9c179e"
             ],
             [
              0.4444444444444444,
              "#bd3786"
             ],
             [
              0.5555555555555556,
              "#d8576b"
             ],
             [
              0.6666666666666666,
              "#ed7953"
             ],
             [
              0.7777777777777778,
              "#fb9f3a"
             ],
             [
              0.8888888888888888,
              "#fdca26"
             ],
             [
              1,
              "#f0f921"
             ]
            ],
            "type": "contour"
           }
          ],
          "contourcarpet": [
           {
            "colorbar": {
             "outlinewidth": 0,
             "ticks": ""
            },
            "type": "contourcarpet"
           }
          ],
          "heatmap": [
           {
            "colorbar": {
             "outlinewidth": 0,
             "ticks": ""
            },
            "colorscale": [
             [
              0,
              "#0d0887"
             ],
             [
              0.1111111111111111,
              "#46039f"
             ],
             [
              0.2222222222222222,
              "#7201a8"
             ],
             [
              0.3333333333333333,
              "#9c179e"
             ],
             [
              0.4444444444444444,
              "#bd3786"
             ],
             [
              0.5555555555555556,
              "#d8576b"
             ],
             [
              0.6666666666666666,
              "#ed7953"
             ],
             [
              0.7777777777777778,
              "#fb9f3a"
             ],
             [
              0.8888888888888888,
              "#fdca26"
             ],
             [
              1,
              "#f0f921"
             ]
            ],
            "type": "heatmap"
           }
          ],
          "heatmapgl": [
           {
            "colorbar": {
             "outlinewidth": 0,
             "ticks": ""
            },
            "colorscale": [
             [
              0,
              "#0d0887"
             ],
             [
              0.1111111111111111,
              "#46039f"
             ],
             [
              0.2222222222222222,
              "#7201a8"
             ],
             [
              0.3333333333333333,
              "#9c179e"
             ],
             [
              0.4444444444444444,
              "#bd3786"
             ],
             [
              0.5555555555555556,
              "#d8576b"
             ],
             [
              0.6666666666666666,
              "#ed7953"
             ],
             [
              0.7777777777777778,
              "#fb9f3a"
             ],
             [
              0.8888888888888888,
              "#fdca26"
             ],
             [
              1,
              "#f0f921"
             ]
            ],
            "type": "heatmapgl"
           }
          ],
          "histogram": [
           {
            "marker": {
             "pattern": {
              "fillmode": "overlay",
              "size": 10,
              "solidity": 0.2
             }
            },
            "type": "histogram"
           }
          ],
          "histogram2d": [
           {
            "colorbar": {
             "outlinewidth": 0,
             "ticks": ""
            },
            "colorscale": [
             [
              0,
              "#0d0887"
             ],
             [
              0.1111111111111111,
              "#46039f"
             ],
             [
              0.2222222222222222,
              "#7201a8"
             ],
             [
              0.3333333333333333,
              "#9c179e"
             ],
             [
              0.4444444444444444,
              "#bd3786"
             ],
             [
              0.5555555555555556,
              "#d8576b"
             ],
             [
              0.6666666666666666,
              "#ed7953"
             ],
             [
              0.7777777777777778,
              "#fb9f3a"
             ],
             [
              0.8888888888888888,
              "#fdca26"
             ],
             [
              1,
              "#f0f921"
             ]
            ],
            "type": "histogram2d"
           }
          ],
          "histogram2dcontour": [
           {
            "colorbar": {
             "outlinewidth": 0,
             "ticks": ""
            },
            "colorscale": [
             [
              0,
              "#0d0887"
             ],
             [
              0.1111111111111111,
              "#46039f"
             ],
             [
              0.2222222222222222,
              "#7201a8"
             ],
             [
              0.3333333333333333,
              "#9c179e"
             ],
             [
              0.4444444444444444,
              "#bd3786"
             ],
             [
              0.5555555555555556,
              "#d8576b"
             ],
             [
              0.6666666666666666,
              "#ed7953"
             ],
             [
              0.7777777777777778,
              "#fb9f3a"
             ],
             [
              0.8888888888888888,
              "#fdca26"
             ],
             [
              1,
              "#f0f921"
             ]
            ],
            "type": "histogram2dcontour"
           }
          ],
          "mesh3d": [
           {
            "colorbar": {
             "outlinewidth": 0,
             "ticks": ""
            },
            "type": "mesh3d"
           }
          ],
          "parcoords": [
           {
            "line": {
             "colorbar": {
              "outlinewidth": 0,
              "ticks": ""
             }
            },
            "type": "parcoords"
           }
          ],
          "pie": [
           {
            "automargin": true,
            "type": "pie"
           }
          ],
          "scatter": [
           {
            "fillpattern": {
             "fillmode": "overlay",
             "size": 10,
             "solidity": 0.2
            },
            "type": "scatter"
           }
          ],
          "scatter3d": [
           {
            "line": {
             "colorbar": {
              "outlinewidth": 0,
              "ticks": ""
             }
            },
            "marker": {
             "colorbar": {
              "outlinewidth": 0,
              "ticks": ""
             }
            },
            "type": "scatter3d"
           }
          ],
          "scattercarpet": [
           {
            "marker": {
             "colorbar": {
              "outlinewidth": 0,
              "ticks": ""
             }
            },
            "type": "scattercarpet"
           }
          ],
          "scattergeo": [
           {
            "marker": {
             "colorbar": {
              "outlinewidth": 0,
              "ticks": ""
             }
            },
            "type": "scattergeo"
           }
          ],
          "scattergl": [
           {
            "marker": {
             "colorbar": {
              "outlinewidth": 0,
              "ticks": ""
             }
            },
            "type": "scattergl"
           }
          ],
          "scattermapbox": [
           {
            "marker": {
             "colorbar": {
              "outlinewidth": 0,
              "ticks": ""
             }
            },
            "type": "scattermapbox"
           }
          ],
          "scatterpolar": [
           {
            "marker": {
             "colorbar": {
              "outlinewidth": 0,
              "ticks": ""
             }
            },
            "type": "scatterpolar"
           }
          ],
          "scatterpolargl": [
           {
            "marker": {
             "colorbar": {
              "outlinewidth": 0,
              "ticks": ""
             }
            },
            "type": "scatterpolargl"
           }
          ],
          "scatterternary": [
           {
            "marker": {
             "colorbar": {
              "outlinewidth": 0,
              "ticks": ""
             }
            },
            "type": "scatterternary"
           }
          ],
          "surface": [
           {
            "colorbar": {
             "outlinewidth": 0,
             "ticks": ""
            },
            "colorscale": [
             [
              0,
              "#0d0887"
             ],
             [
              0.1111111111111111,
              "#46039f"
             ],
             [
              0.2222222222222222,
              "#7201a8"
             ],
             [
              0.3333333333333333,
              "#9c179e"
             ],
             [
              0.4444444444444444,
              "#bd3786"
             ],
             [
              0.5555555555555556,
              "#d8576b"
             ],
             [
              0.6666666666666666,
              "#ed7953"
             ],
             [
              0.7777777777777778,
              "#fb9f3a"
             ],
             [
              0.8888888888888888,
              "#fdca26"
             ],
             [
              1,
              "#f0f921"
             ]
            ],
            "type": "surface"
           }
          ],
          "table": [
           {
            "cells": {
             "fill": {
              "color": "#EBF0F8"
             },
             "line": {
              "color": "white"
             }
            },
            "header": {
             "fill": {
              "color": "#C8D4E3"
             },
             "line": {
              "color": "white"
             }
            },
            "type": "table"
           }
          ]
         },
         "layout": {
          "annotationdefaults": {
           "arrowcolor": "#2a3f5f",
           "arrowhead": 0,
           "arrowwidth": 1
          },
          "autotypenumbers": "strict",
          "coloraxis": {
           "colorbar": {
            "outlinewidth": 0,
            "ticks": ""
           }
          },
          "colorscale": {
           "diverging": [
            [
             0,
             "#8e0152"
            ],
            [
             0.1,
             "#c51b7d"
            ],
            [
             0.2,
             "#de77ae"
            ],
            [
             0.3,
             "#f1b6da"
            ],
            [
             0.4,
             "#fde0ef"
            ],
            [
             0.5,
             "#f7f7f7"
            ],
            [
             0.6,
             "#e6f5d0"
            ],
            [
             0.7,
             "#b8e186"
            ],
            [
             0.8,
             "#7fbc41"
            ],
            [
             0.9,
             "#4d9221"
            ],
            [
             1,
             "#276419"
            ]
           ],
           "sequential": [
            [
             0,
             "#0d0887"
            ],
            [
             0.1111111111111111,
             "#46039f"
            ],
            [
             0.2222222222222222,
             "#7201a8"
            ],
            [
             0.3333333333333333,
             "#9c179e"
            ],
            [
             0.4444444444444444,
             "#bd3786"
            ],
            [
             0.5555555555555556,
             "#d8576b"
            ],
            [
             0.6666666666666666,
             "#ed7953"
            ],
            [
             0.7777777777777778,
             "#fb9f3a"
            ],
            [
             0.8888888888888888,
             "#fdca26"
            ],
            [
             1,
             "#f0f921"
            ]
           ],
           "sequentialminus": [
            [
             0,
             "#0d0887"
            ],
            [
             0.1111111111111111,
             "#46039f"
            ],
            [
             0.2222222222222222,
             "#7201a8"
            ],
            [
             0.3333333333333333,
             "#9c179e"
            ],
            [
             0.4444444444444444,
             "#bd3786"
            ],
            [
             0.5555555555555556,
             "#d8576b"
            ],
            [
             0.6666666666666666,
             "#ed7953"
            ],
            [
             0.7777777777777778,
             "#fb9f3a"
            ],
            [
             0.8888888888888888,
             "#fdca26"
            ],
            [
             1,
             "#f0f921"
            ]
           ]
          },
          "colorway": [
           "#636efa",
           "#EF553B",
           "#00cc96",
           "#ab63fa",
           "#FFA15A",
           "#19d3f3",
           "#FF6692",
           "#B6E880",
           "#FF97FF",
           "#FECB52"
          ],
          "font": {
           "color": "#2a3f5f"
          },
          "geo": {
           "bgcolor": "white",
           "lakecolor": "white",
           "landcolor": "#E5ECF6",
           "showlakes": true,
           "showland": true,
           "subunitcolor": "white"
          },
          "hoverlabel": {
           "align": "left"
          },
          "hovermode": "closest",
          "mapbox": {
           "style": "light"
          },
          "paper_bgcolor": "white",
          "plot_bgcolor": "#E5ECF6",
          "polar": {
           "angularaxis": {
            "gridcolor": "white",
            "linecolor": "white",
            "ticks": ""
           },
           "bgcolor": "#E5ECF6",
           "radialaxis": {
            "gridcolor": "white",
            "linecolor": "white",
            "ticks": ""
           }
          },
          "scene": {
           "xaxis": {
            "backgroundcolor": "#E5ECF6",
            "gridcolor": "white",
            "gridwidth": 2,
            "linecolor": "white",
            "showbackground": true,
            "ticks": "",
            "zerolinecolor": "white"
           },
           "yaxis": {
            "backgroundcolor": "#E5ECF6",
            "gridcolor": "white",
            "gridwidth": 2,
            "linecolor": "white",
            "showbackground": true,
            "ticks": "",
            "zerolinecolor": "white"
           },
           "zaxis": {
            "backgroundcolor": "#E5ECF6",
            "gridcolor": "white",
            "gridwidth": 2,
            "linecolor": "white",
            "showbackground": true,
            "ticks": "",
            "zerolinecolor": "white"
           }
          },
          "shapedefaults": {
           "line": {
            "color": "#2a3f5f"
           }
          },
          "ternary": {
           "aaxis": {
            "gridcolor": "white",
            "linecolor": "white",
            "ticks": ""
           },
           "baxis": {
            "gridcolor": "white",
            "linecolor": "white",
            "ticks": ""
           },
           "bgcolor": "#E5ECF6",
           "caxis": {
            "gridcolor": "white",
            "linecolor": "white",
            "ticks": ""
           }
          },
          "title": {
           "x": 0.05
          },
          "xaxis": {
           "automargin": true,
           "gridcolor": "white",
           "linecolor": "white",
           "ticks": "",
           "title": {
            "standoff": 15
           },
           "zerolinecolor": "white",
           "zerolinewidth": 2
          },
          "yaxis": {
           "automargin": true,
           "gridcolor": "white",
           "linecolor": "white",
           "ticks": "",
           "title": {
            "standoff": 15
           },
           "zerolinecolor": "white",
           "zerolinewidth": 2
          }
         }
        },
        "title": {
         "text": "Validasi Visual: Perbandingan Data Aktual vs Prediksi Multi-Model"
        },
        "xaxis": {
         "title": {
          "text": "Tanggal"
         }
        },
        "yaxis": {
         "title": {
          "text": "Jumlah Wisatawan"
         }
        }
       }
      }
     },
     "metadata": {},
     "output_type": "display_data"
    },
    {
     "name": "stdout",
     "output_type": "stream",
     "text": [
      "\n",
      "--- 6.3 Interpretasi Model (Feature Importance untuk XGBoost) ---\n",
      "Catatan: Analisis Faktor Pendorong (Feature Importance) hanya tersedia untuk model berbasis tree seperti XGBoost.\n"
     ]
    },
    {
     "data": {
      "application/vnd.plotly.v1+json": {
       "config": {
        "plotlyServerURL": "https://plot.ly"
       },
       "data": [
        {
         "alignmentgroup": "True",
         "hovertemplate": "Nilai Kepentingan=%{x}<br>Fitur=%{y}<extra></extra>",
         "legendgroup": "",
         "marker": {
          "color": "#636efa",
          "pattern": {
           "shape": ""
          }
         },
         "name": "",
         "offsetgroup": "",
         "orientation": "h",
         "showlegend": false,
         "textposition": "auto",
         "type": "bar",
         "x": [
          0,
          0.04209177568554878,
          0.06504411995410919,
          0.06968614459037781,
          0.08108408749103546,
          0.7420938611030579
         ],
         "xaxis": "x",
         "y": [
          "kuartal",
          "bulan",
          "rolling_mean_3",
          "tahun",
          "lag_1",
          "is_libur_puncak"
         ],
         "yaxis": "y"
        }
       ],
       "layout": {
        "barmode": "relative",
        "legend": {
         "tracegroupgap": 0
        },
        "template": {
         "data": {
          "bar": [
           {
            "error_x": {
             "color": "#2a3f5f"
            },
            "error_y": {
             "color": "#2a3f5f"
            },
            "marker": {
             "line": {
              "color": "white",
              "width": 0.5
             },
             "pattern": {
              "fillmode": "overlay",
              "size": 10,
              "solidity": 0.2
             }
            },
            "type": "bar"
           }
          ],
          "barpolar": [
           {
            "marker": {
             "line": {
              "color": "white",
              "width": 0.5
             },
             "pattern": {
              "fillmode": "overlay",
              "size": 10,
              "solidity": 0.2
             }
            },
            "type": "barpolar"
           }
          ],
          "carpet": [
           {
            "aaxis": {
             "endlinecolor": "#2a3f5f",
             "gridcolor": "#C8D4E3",
             "linecolor": "#C8D4E3",
             "minorgridcolor": "#C8D4E3",
             "startlinecolor": "#2a3f5f"
            },
            "baxis": {
             "endlinecolor": "#2a3f5f",
             "gridcolor": "#C8D4E3",
             "linecolor": "#C8D4E3",
             "minorgridcolor": "#C8D4E3",
             "startlinecolor": "#2a3f5f"
            },
            "type": "carpet"
           }
          ],
          "choropleth": [
           {
            "colorbar": {
             "outlinewidth": 0,
             "ticks": ""
            },
            "type": "choropleth"
           }
          ],
          "contour": [
           {
            "colorbar": {
             "outlinewidth": 0,
             "ticks": ""
            },
            "colorscale": [
             [
              0,
              "#0d0887"
             ],
             [
              0.1111111111111111,
              "#46039f"
             ],
             [
              0.2222222222222222,
              "#7201a8"
             ],
             [
              0.3333333333333333,
              "#9c179e"
             ],
             [
              0.4444444444444444,
              "#bd3786"
             ],
             [
              0.5555555555555556,
              "#d8576b"
             ],
             [
              0.6666666666666666,
              "#ed7953"
             ],
             [
              0.7777777777777778,
              "#fb9f3a"
             ],
             [
              0.8888888888888888,
              "#fdca26"
             ],
             [
              1,
              "#f0f921"
             ]
            ],
            "type": "contour"
           }
          ],
          "contourcarpet": [
           {
            "colorbar": {
             "outlinewidth": 0,
             "ticks": ""
            },
            "type": "contourcarpet"
           }
          ],
          "heatmap": [
           {
            "colorbar": {
             "outlinewidth": 0,
             "ticks": ""
            },
            "colorscale": [
             [
              0,
              "#0d0887"
             ],
             [
              0.1111111111111111,
              "#46039f"
             ],
             [
              0.2222222222222222,
              "#7201a8"
             ],
             [
              0.3333333333333333,
              "#9c179e"
             ],
             [
              0.4444444444444444,
              "#bd3786"
             ],
             [
              0.5555555555555556,
              "#d8576b"
             ],
             [
              0.6666666666666666,
              "#ed7953"
             ],
             [
              0.7777777777777778,
              "#fb9f3a"
             ],
             [
              0.8888888888888888,
              "#fdca26"
             ],
             [
              1,
              "#f0f921"
             ]
            ],
            "type": "heatmap"
           }
          ],
          "heatmapgl": [
           {
            "colorbar": {
             "outlinewidth": 0,
             "ticks": ""
            },
            "colorscale": [
             [
              0,
              "#0d0887"
             ],
             [
              0.1111111111111111,
              "#46039f"
             ],
             [
              0.2222222222222222,
              "#7201a8"
             ],
             [
              0.3333333333333333,
              "#9c179e"
             ],
             [
              0.4444444444444444,
              "#bd3786"
             ],
             [
              0.5555555555555556,
              "#d8576b"
             ],
             [
              0.6666666666666666,
              "#ed7953"
             ],
             [
              0.7777777777777778,
              "#fb9f3a"
             ],
             [
              0.8888888888888888,
              "#fdca26"
             ],
             [
              1,
              "#f0f921"
             ]
            ],
            "type": "heatmapgl"
           }
          ],
          "histogram": [
           {
            "marker": {
             "pattern": {
              "fillmode": "overlay",
              "size": 10,
              "solidity": 0.2
             }
            },
            "type": "histogram"
           }
          ],
          "histogram2d": [
           {
            "colorbar": {
             "outlinewidth": 0,
             "ticks": ""
            },
            "colorscale": [
             [
              0,
              "#0d0887"
             ],
             [
              0.1111111111111111,
              "#46039f"
             ],
             [
              0.2222222222222222,
              "#7201a8"
             ],
             [
              0.3333333333333333,
              "#9c179e"
             ],
             [
              0.4444444444444444,
              "#bd3786"
             ],
             [
              0.5555555555555556,
              "#d8576b"
             ],
             [
              0.6666666666666666,
              "#ed7953"
             ],
             [
              0.7777777777777778,
              "#fb9f3a"
             ],
             [
              0.8888888888888888,
              "#fdca26"
             ],
             [
              1,
              "#f0f921"
             ]
            ],
            "type": "histogram2d"
           }
          ],
          "histogram2dcontour": [
           {
            "colorbar": {
             "outlinewidth": 0,
             "ticks": ""
            },
            "colorscale": [
             [
              0,
              "#0d0887"
             ],
             [
              0.1111111111111111,
              "#46039f"
             ],
             [
              0.2222222222222222,
              "#7201a8"
             ],
             [
              0.3333333333333333,
              "#9c179e"
             ],
             [
              0.4444444444444444,
              "#bd3786"
             ],
             [
              0.5555555555555556,
              "#d8576b"
             ],
             [
              0.6666666666666666,
              "#ed7953"
             ],
             [
              0.7777777777777778,
              "#fb9f3a"
             ],
             [
              0.8888888888888888,
              "#fdca26"
             ],
             [
              1,
              "#f0f921"
             ]
            ],
            "type": "histogram2dcontour"
           }
          ],
          "mesh3d": [
           {
            "colorbar": {
             "outlinewidth": 0,
             "ticks": ""
            },
            "type": "mesh3d"
           }
          ],
          "parcoords": [
           {
            "line": {
             "colorbar": {
              "outlinewidth": 0,
              "ticks": ""
             }
            },
            "type": "parcoords"
           }
          ],
          "pie": [
           {
            "automargin": true,
            "type": "pie"
           }
          ],
          "scatter": [
           {
            "fillpattern": {
             "fillmode": "overlay",
             "size": 10,
             "solidity": 0.2
            },
            "type": "scatter"
           }
          ],
          "scatter3d": [
           {
            "line": {
             "colorbar": {
              "outlinewidth": 0,
              "ticks": ""
             }
            },
            "marker": {
             "colorbar": {
              "outlinewidth": 0,
              "ticks": ""
             }
            },
            "type": "scatter3d"
           }
          ],
          "scattercarpet": [
           {
            "marker": {
             "colorbar": {
              "outlinewidth": 0,
              "ticks": ""
             }
            },
            "type": "scattercarpet"
           }
          ],
          "scattergeo": [
           {
            "marker": {
             "colorbar": {
              "outlinewidth": 0,
              "ticks": ""
             }
            },
            "type": "scattergeo"
           }
          ],
          "scattergl": [
           {
            "marker": {
             "colorbar": {
              "outlinewidth": 0,
              "ticks": ""
             }
            },
            "type": "scattergl"
           }
          ],
          "scattermapbox": [
           {
            "marker": {
             "colorbar": {
              "outlinewidth": 0,
              "ticks": ""
             }
            },
            "type": "scattermapbox"
           }
          ],
          "scatterpolar": [
           {
            "marker": {
             "colorbar": {
              "outlinewidth": 0,
              "ticks": ""
             }
            },
            "type": "scatterpolar"
           }
          ],
          "scatterpolargl": [
           {
            "marker": {
             "colorbar": {
              "outlinewidth": 0,
              "ticks": ""
             }
            },
            "type": "scatterpolargl"
           }
          ],
          "scatterternary": [
           {
            "marker": {
             "colorbar": {
              "outlinewidth": 0,
              "ticks": ""
             }
            },
            "type": "scatterternary"
           }
          ],
          "surface": [
           {
            "colorbar": {
             "outlinewidth": 0,
             "ticks": ""
            },
            "colorscale": [
             [
              0,
              "#0d0887"
             ],
             [
              0.1111111111111111,
              "#46039f"
             ],
             [
              0.2222222222222222,
              "#7201a8"
             ],
             [
              0.3333333333333333,
              "#9c179e"
             ],
             [
              0.4444444444444444,
              "#bd3786"
             ],
             [
              0.5555555555555556,
              "#d8576b"
             ],
             [
              0.6666666666666666,
              "#ed7953"
             ],
             [
              0.7777777777777778,
              "#fb9f3a"
             ],
             [
              0.8888888888888888,
              "#fdca26"
             ],
             [
              1,
              "#f0f921"
             ]
            ],
            "type": "surface"
           }
          ],
          "table": [
           {
            "cells": {
             "fill": {
              "color": "#EBF0F8"
             },
             "line": {
              "color": "white"
             }
            },
            "header": {
             "fill": {
              "color": "#C8D4E3"
             },
             "line": {
              "color": "white"
             }
            },
            "type": "table"
           }
          ]
         },
         "layout": {
          "annotationdefaults": {
           "arrowcolor": "#2a3f5f",
           "arrowhead": 0,
           "arrowwidth": 1
          },
          "autotypenumbers": "strict",
          "coloraxis": {
           "colorbar": {
            "outlinewidth": 0,
            "ticks": ""
           }
          },
          "colorscale": {
           "diverging": [
            [
             0,
             "#8e0152"
            ],
            [
             0.1,
             "#c51b7d"
            ],
            [
             0.2,
             "#de77ae"
            ],
            [
             0.3,
             "#f1b6da"
            ],
            [
             0.4,
             "#fde0ef"
            ],
            [
             0.5,
             "#f7f7f7"
            ],
            [
             0.6,
             "#e6f5d0"
            ],
            [
             0.7,
             "#b8e186"
            ],
            [
             0.8,
             "#7fbc41"
            ],
            [
             0.9,
             "#4d9221"
            ],
            [
             1,
             "#276419"
            ]
           ],
           "sequential": [
            [
             0,
             "#0d0887"
            ],
            [
             0.1111111111111111,
             "#46039f"
            ],
            [
             0.2222222222222222,
             "#7201a8"
            ],
            [
             0.3333333333333333,
             "#9c179e"
            ],
            [
             0.4444444444444444,
             "#bd3786"
            ],
            [
             0.5555555555555556,
             "#d8576b"
            ],
            [
             0.6666666666666666,
             "#ed7953"
            ],
            [
             0.7777777777777778,
             "#fb9f3a"
            ],
            [
             0.8888888888888888,
             "#fdca26"
            ],
            [
             1,
             "#f0f921"
            ]
           ],
           "sequentialminus": [
            [
             0,
             "#0d0887"
            ],
            [
             0.1111111111111111,
             "#46039f"
            ],
            [
             0.2222222222222222,
             "#7201a8"
            ],
            [
             0.3333333333333333,
             "#9c179e"
            ],
            [
             0.4444444444444444,
             "#bd3786"
            ],
            [
             0.5555555555555556,
             "#d8576b"
            ],
            [
             0.6666666666666666,
             "#ed7953"
            ],
            [
             0.7777777777777778,
             "#fb9f3a"
            ],
            [
             0.8888888888888888,
             "#fdca26"
            ],
            [
             1,
             "#f0f921"
            ]
           ]
          },
          "colorway": [
           "#636efa",
           "#EF553B",
           "#00cc96",
           "#ab63fa",
           "#FFA15A",
           "#19d3f3",
           "#FF6692",
           "#B6E880",
           "#FF97FF",
           "#FECB52"
          ],
          "font": {
           "color": "#2a3f5f"
          },
          "geo": {
           "bgcolor": "white",
           "lakecolor": "white",
           "landcolor": "white",
           "showlakes": true,
           "showland": true,
           "subunitcolor": "#C8D4E3"
          },
          "hoverlabel": {
           "align": "left"
          },
          "hovermode": "closest",
          "mapbox": {
           "style": "light"
          },
          "paper_bgcolor": "white",
          "plot_bgcolor": "white",
          "polar": {
           "angularaxis": {
            "gridcolor": "#EBF0F8",
            "linecolor": "#EBF0F8",
            "ticks": ""
           },
           "bgcolor": "white",
           "radialaxis": {
            "gridcolor": "#EBF0F8",
            "linecolor": "#EBF0F8",
            "ticks": ""
           }
          },
          "scene": {
           "xaxis": {
            "backgroundcolor": "white",
            "gridcolor": "#DFE8F3",
            "gridwidth": 2,
            "linecolor": "#EBF0F8",
            "showbackground": true,
            "ticks": "",
            "zerolinecolor": "#EBF0F8"
           },
           "yaxis": {
            "backgroundcolor": "white",
            "gridcolor": "#DFE8F3",
            "gridwidth": 2,
            "linecolor": "#EBF0F8",
            "showbackground": true,
            "ticks": "",
            "zerolinecolor": "#EBF0F8"
           },
           "zaxis": {
            "backgroundcolor": "white",
            "gridcolor": "#DFE8F3",
            "gridwidth": 2,
            "linecolor": "#EBF0F8",
            "showbackground": true,
            "ticks": "",
            "zerolinecolor": "#EBF0F8"
           }
          },
          "shapedefaults": {
           "line": {
            "color": "#2a3f5f"
           }
          },
          "ternary": {
           "aaxis": {
            "gridcolor": "#DFE8F3",
            "linecolor": "#A2B1C6",
            "ticks": ""
           },
           "baxis": {
            "gridcolor": "#DFE8F3",
            "linecolor": "#A2B1C6",
            "ticks": ""
           },
           "bgcolor": "white",
           "caxis": {
            "gridcolor": "#DFE8F3",
            "linecolor": "#A2B1C6",
            "ticks": ""
           }
          },
          "title": {
           "x": 0.05
          },
          "xaxis": {
           "automargin": true,
           "gridcolor": "#EBF0F8",
           "linecolor": "#EBF0F8",
           "ticks": "",
           "title": {
            "standoff": 15
           },
           "zerolinecolor": "#EBF0F8",
           "zerolinewidth": 2
          },
          "yaxis": {
           "automargin": true,
           "gridcolor": "#EBF0F8",
           "linecolor": "#EBF0F8",
           "ticks": "",
           "title": {
            "standoff": 15
           },
           "zerolinecolor": "#EBF0F8",
           "zerolinewidth": 2
          }
         }
        },
        "title": {
         "text": "Faktor Pendorong Utama (Feature Importance) - Model XGBoost"
        },
        "xaxis": {
         "anchor": "y",
         "domain": [
          0,
          1
         ],
         "title": {
          "text": "Nilai Kepentingan"
         }
        },
        "yaxis": {
         "anchor": "x",
         "domain": [
          0,
          1
         ],
         "title": {
          "text": "Fitur"
         }
        }
       }
      }
     },
     "metadata": {},
     "output_type": "display_data"
    },
    {
     "name": "stdout",
     "output_type": "stream",
     "text": [
      "\n",
      "Analisis selesai.\n"
     ]
    }
   ],
   "source": [
    "# ==============================================================================\n",
    "# 6. EVALUASI DAN INTERPRETASI MULTI-MODEL DENGAN PLOTLY (DIPERBAIKI)\n",
    "# ==============================================================================\n",
    "\n",
    "# Pastikan variabel dari sel sebelumnya (pelatihan model) sudah ada\n",
    "if 'predictions' in locals() and 'metrics_df' in locals() and 'xgb_model' in locals():\n",
    "    print(\"\\nTahap 6: Mengevaluasi dan Menginterpretasi Multi-Model...\")\n",
    "    \n",
    "    # 1. Menampilkan Metrik Kuantitatif untuk Semua Model\n",
    "    print(\"\\n--- 6.1 Metrik Kuantitatif (MAPE & RMSE) ---\")\n",
    "    print(\"Tabel Perbandingan Kinerja pada Data Uji (Semakin Kecil Semakin Baik)\")\n",
    "    display(metrics_df)\n",
    "\n",
    "    # 2. Menampilkan Validasi Visual untuk Semua Model\n",
    "    print(\"\\n--- 6.2 Validasi Visual ---\")\n",
    "    fig_eval.update_layout(\n",
    "        title='Validasi Visual: Perbandingan Data Aktual vs Prediksi Multi-Model'\n",
    "    )\n",
    "    fig_eval.show()\n",
    "\n",
    "    # 3. Menampilkan Interpretasi Model (Spesifik untuk XGBoost)\n",
    "    print(\"\\n--- 6.3 Interpretasi Model (Feature Importance untuk XGBoost) ---\")\n",
    "    print(\"Catatan: Analisis Faktor Pendorong (Feature Importance) hanya tersedia untuk model berbasis tree seperti XGBoost.\")\n",
    "    \n",
    "    # --- PERBAIKAN DI SINI: Mendefinisikan ulang variabel FEATURES ---\n",
    "    FEATURES = ['bulan', 'kuartal', 'tahun', 'lag_1', 'rolling_mean_3', 'is_libur_puncak']\n",
    "    \n",
    "    # Plot Feature Importance dengan Plotly\n",
    "    feature_importance = pd.DataFrame({'feature': FEATURES, 'importance': xgb_model.feature_importances_})\n",
    "    # Urutkan untuk visualisasi yang lebih baik\n",
    "    feature_importance = feature_importance.sort_values('importance', ascending=True)\n",
    "\n",
    "    fig_feat = px.bar(\n",
    "        feature_importance, \n",
    "        x='importance', \n",
    "        y='feature', \n",
    "        orientation='h', \n",
    "        title='Faktor Pendorong Utama (Feature Importance) - Model XGBoost',\n",
    "        labels={'feature': 'Fitur', 'importance': 'Nilai Kepentingan'}\n",
    "    )\n",
    "    fig_feat.show()\n",
    "\n",
    "    print(\"\\nAnalisis selesai.\")\n",
    "\n",
    "else:\n",
    "    print(\"\\n❌ Proses evaluasi dibatalkan karena variabel yang dibutuhkan (seperti 'predictions', 'metrics_df', 'xgb_model') tidak ditemukan. Pastikan sel pelatihan model sudah dijalankan.\")"
   ]
  },
  {
   "cell_type": "markdown",
   "id": "6a134c07",
   "metadata": {},
   "source": [
    "### **6.2. Implikasi dan Langkah Selanjutnya**\n",
    "Wawasan dari model ini dapat langsung digunakan untuk pengambilan keputusan strategis oleh Dinas Pariwisata, seperti:\n",
    "- **Alokasi Sumber Daya:** Mempersiapkan staf dan fasilitas tambahan menjelang bulan-bulan yang diprediksi akan menjadi puncak kunjungan.\n",
    "- **Strategi Pemasaran:** Meluncurkan kampanye promosi yang ditargetkan sebelum periode *low season* untuk meningkatkan kunjungan.\n",
    "\n",
    "Langkah selanjutnya yang direkomendasikan adalah melakukan *hyperparameter tuning* untuk optimasi model, mengembangkan model individual untuk setiap destinasi wisata, dan memperkaya dataset dengan data eksternal seperti cuaca dan kalender event."
   ]
  }
 ],
 "metadata": {
  "kernelspec": {
   "display_name": "py310",
   "language": "python",
   "name": "python3"
  },
  "language_info": {
   "codemirror_mode": {
    "name": "ipython",
    "version": 3
   },
   "file_extension": ".py",
   "mimetype": "text/x-python",
   "name": "python",
   "nbconvert_exporter": "python",
   "pygments_lexer": "ipython3",
   "version": "3.10.17"
  }
 },
 "nbformat": 4,
 "nbformat_minor": 5
}
